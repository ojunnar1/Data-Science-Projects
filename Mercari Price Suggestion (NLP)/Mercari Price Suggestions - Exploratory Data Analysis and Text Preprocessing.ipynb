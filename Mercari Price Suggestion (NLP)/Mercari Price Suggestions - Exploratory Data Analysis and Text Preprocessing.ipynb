{
 "cells": [
  {
   "cell_type": "markdown",
   "metadata": {},
   "source": [
    "# Mercari Price Suggestions - Exploratory Data Analysis and Text Preprocessing"
   ]
  },
  {
   "cell_type": "markdown",
   "metadata": {},
   "source": [
    "## Contents"
   ]
  },
  {
   "cell_type": "markdown",
   "metadata": {},
   "source": [
    "<ol>\n",
    "    <li><b>Import Libraries</b></li>\n",
    "    <li><b>Load Dataset</b></li>\n",
    "    <li><b>Summary Statistics</b></li>\n",
    "    <li><b>Data Cleaning</b></li>\n",
    "    <li><b>Exploratory Data Analysis</b></li>\n",
    "<ul><li>Observing target feature</li>\n",
    "<li>Eliminating products which have price $0 </li>\n",
    "<li>Analyze Distribution of shipping</li>\n",
    "<li>Distribution of price based on shipping type</li>\n",
    "<li>Mean Price for shipping type</li>\n",
    "<li>Analyze Top 10 Categories</li>\n",
    "<li>Implementing Feature Engineering</li>\n",
    "<li>Top 10 Main Categories</li>\n",
    "<li>Ratio of Main Categories</li>\n",
    "<li>Analyzing Brands</li>\n",
    "<li>Top 20 Expensive Brands</li>\n",
    "<li>Analyzing relation between Length of Description and Price</li></ul>\n",
    "<li><b>Text Processing</b></li>\n",
    "<ul><li>List of Punctuations</li>\n",
    "<li>List of Stop Words</li>\n",
    "<li>Functions for Normalizing words</li>\n",
    "<li>Applying Normalizing Functions</li>\n",
    "</ul>\n",
    "<li><b>Text Feature Extraction</b></li>\n",
    "<ul><li> Word Frequency Weights</li>\n",
    "<li>Encoding Categorical Variables</li>\n",
    "<ul><li> Count Vectorizer</li>\n",
    "<li> Label Binarizer</li>\n",
    "<li>Get Dummies</li></ul>\n",
    "<li>TF-IDF</li>\n",
    "<ul><li>Observing TF-IDF Weights</li></ul>\n",
    "<li>Combining all features into one merge</li></ul>\n",
    "</ol>\n",
    "\n"
   ]
  },
  {
   "cell_type": "markdown",
   "metadata": {},
   "source": [
    "## Import Libraries"
   ]
  },
  {
   "cell_type": "code",
   "execution_count": 1,
   "metadata": {},
   "outputs": [],
   "source": [
    "import time\n",
    "import numpy as np\n",
    "import pandas as pd\n",
    "import matplotlib.pyplot as plt\n",
    "import seaborn as sns\n",
    "import time\n",
    "from sklearn.preprocessing import LabelBinarizer\n",
    "from scipy.sparse import csr_matrix, hstack\n",
    "from sklearn.feature_extraction.text import CountVectorizer, TfidfVectorizer\n"
   ]
  },
  {
   "cell_type": "markdown",
   "metadata": {},
   "source": [
    "## Load Dataset"
   ]
  },
  {
   "cell_type": "code",
   "execution_count": 2,
   "metadata": {},
   "outputs": [],
   "source": [
    "# Loading dataset\n",
    "train = pd.read_csv(r'C:\\Users\\Ojas\\Desktop\\Mercari Price Suggestions\\Mercari Price Suggestions\\train.tsv', sep = '\\t')\n",
    "test = pd.read_csv(r'C:\\Users\\Ojas\\Desktop\\Mercari Price Suggestions\\Mercari Price Suggestions\\test.tsv', sep = '\\t')"
   ]
  },
  {
   "cell_type": "code",
   "execution_count": 3,
   "metadata": {},
   "outputs": [
    {
     "data": {
      "text/html": [
       "<div>\n",
       "<style scoped>\n",
       "    .dataframe tbody tr th:only-of-type {\n",
       "        vertical-align: middle;\n",
       "    }\n",
       "\n",
       "    .dataframe tbody tr th {\n",
       "        vertical-align: top;\n",
       "    }\n",
       "\n",
       "    .dataframe thead th {\n",
       "        text-align: right;\n",
       "    }\n",
       "</style>\n",
       "<table border=\"1\" class=\"dataframe\">\n",
       "  <thead>\n",
       "    <tr style=\"text-align: right;\">\n",
       "      <th></th>\n",
       "      <th>train_id</th>\n",
       "      <th>name</th>\n",
       "      <th>item_condition_id</th>\n",
       "      <th>category_name</th>\n",
       "      <th>brand_name</th>\n",
       "      <th>price</th>\n",
       "      <th>shipping</th>\n",
       "      <th>item_description</th>\n",
       "    </tr>\n",
       "  </thead>\n",
       "  <tbody>\n",
       "    <tr>\n",
       "      <th>0</th>\n",
       "      <td>0</td>\n",
       "      <td>MLB Cincinnati Reds T Shirt Size XL</td>\n",
       "      <td>3</td>\n",
       "      <td>Men/Tops/T-shirts</td>\n",
       "      <td>NaN</td>\n",
       "      <td>10.0</td>\n",
       "      <td>1</td>\n",
       "      <td>No description yet</td>\n",
       "    </tr>\n",
       "    <tr>\n",
       "      <th>1</th>\n",
       "      <td>1</td>\n",
       "      <td>Razer BlackWidow Chroma Keyboard</td>\n",
       "      <td>3</td>\n",
       "      <td>Electronics/Computers &amp; Tablets/Components &amp; P...</td>\n",
       "      <td>Razer</td>\n",
       "      <td>52.0</td>\n",
       "      <td>0</td>\n",
       "      <td>This keyboard is in great condition and works ...</td>\n",
       "    </tr>\n",
       "    <tr>\n",
       "      <th>2</th>\n",
       "      <td>2</td>\n",
       "      <td>AVA-VIV Blouse</td>\n",
       "      <td>1</td>\n",
       "      <td>Women/Tops &amp; Blouses/Blouse</td>\n",
       "      <td>Target</td>\n",
       "      <td>10.0</td>\n",
       "      <td>1</td>\n",
       "      <td>Adorable top with a hint of lace and a key hol...</td>\n",
       "    </tr>\n",
       "    <tr>\n",
       "      <th>3</th>\n",
       "      <td>3</td>\n",
       "      <td>Leather Horse Statues</td>\n",
       "      <td>1</td>\n",
       "      <td>Home/Home Décor/Home Décor Accents</td>\n",
       "      <td>NaN</td>\n",
       "      <td>35.0</td>\n",
       "      <td>1</td>\n",
       "      <td>New with tags. Leather horses. Retail for [rm]...</td>\n",
       "    </tr>\n",
       "    <tr>\n",
       "      <th>4</th>\n",
       "      <td>4</td>\n",
       "      <td>24K GOLD plated rose</td>\n",
       "      <td>1</td>\n",
       "      <td>Women/Jewelry/Necklaces</td>\n",
       "      <td>NaN</td>\n",
       "      <td>44.0</td>\n",
       "      <td>0</td>\n",
       "      <td>Complete with certificate of authenticity</td>\n",
       "    </tr>\n",
       "  </tbody>\n",
       "</table>\n",
       "</div>"
      ],
      "text/plain": [
       "   train_id                                 name  item_condition_id  \\\n",
       "0         0  MLB Cincinnati Reds T Shirt Size XL                  3   \n",
       "1         1     Razer BlackWidow Chroma Keyboard                  3   \n",
       "2         2                       AVA-VIV Blouse                  1   \n",
       "3         3                Leather Horse Statues                  1   \n",
       "4         4                 24K GOLD plated rose                  1   \n",
       "\n",
       "                                       category_name brand_name  price  \\\n",
       "0                                  Men/Tops/T-shirts        NaN   10.0   \n",
       "1  Electronics/Computers & Tablets/Components & P...      Razer   52.0   \n",
       "2                        Women/Tops & Blouses/Blouse     Target   10.0   \n",
       "3                 Home/Home Décor/Home Décor Accents        NaN   35.0   \n",
       "4                            Women/Jewelry/Necklaces        NaN   44.0   \n",
       "\n",
       "   shipping                                   item_description  \n",
       "0         1                                 No description yet  \n",
       "1         0  This keyboard is in great condition and works ...  \n",
       "2         1  Adorable top with a hint of lace and a key hol...  \n",
       "3         1  New with tags. Leather horses. Retail for [rm]...  \n",
       "4         0          Complete with certificate of authenticity  "
      ]
     },
     "execution_count": 3,
     "metadata": {},
     "output_type": "execute_result"
    }
   ],
   "source": [
    "train.head()"
   ]
  },
  {
   "cell_type": "code",
   "execution_count": 4,
   "metadata": {},
   "outputs": [
    {
     "name": "stdout",
     "output_type": "stream",
     "text": [
      "train_id               int64\n",
      "name                  object\n",
      "item_condition_id      int64\n",
      "category_name         object\n",
      "brand_name            object\n",
      "price                float64\n",
      "shipping               int64\n",
      "item_description      object\n",
      "dtype: object\n"
     ]
    }
   ],
   "source": [
    "# Exploring Training dataset\n",
    "print(train.dtypes)"
   ]
  },
  {
   "cell_type": "code",
   "execution_count": 5,
   "metadata": {},
   "outputs": [
    {
     "name": "stdout",
     "output_type": "stream",
     "text": [
      "Training data size is: (1482535, 8)\n"
     ]
    }
   ],
   "source": [
    "print(\"Training data size is: \" + str(train.shape))"
   ]
  },
  {
   "cell_type": "markdown",
   "metadata": {},
   "source": [
    "There are total 1482535 observations in the training dataset."
   ]
  },
  {
   "cell_type": "markdown",
   "metadata": {},
   "source": [
    "##  Summary Statistics"
   ]
  },
  {
   "cell_type": "code",
   "execution_count": 6,
   "metadata": {},
   "outputs": [
    {
     "data": {
      "text/html": [
       "<div>\n",
       "<style scoped>\n",
       "    .dataframe tbody tr th:only-of-type {\n",
       "        vertical-align: middle;\n",
       "    }\n",
       "\n",
       "    .dataframe tbody tr th {\n",
       "        vertical-align: top;\n",
       "    }\n",
       "\n",
       "    .dataframe thead th {\n",
       "        text-align: right;\n",
       "    }\n",
       "</style>\n",
       "<table border=\"1\" class=\"dataframe\">\n",
       "  <thead>\n",
       "    <tr style=\"text-align: right;\">\n",
       "      <th></th>\n",
       "      <th>count</th>\n",
       "      <th>unique</th>\n",
       "      <th>top</th>\n",
       "      <th>freq</th>\n",
       "    </tr>\n",
       "  </thead>\n",
       "  <tbody>\n",
       "    <tr>\n",
       "      <th>train_id</th>\n",
       "      <td>1482535</td>\n",
       "      <td>1482535</td>\n",
       "      <td>1482534</td>\n",
       "      <td>1</td>\n",
       "    </tr>\n",
       "    <tr>\n",
       "      <th>name</th>\n",
       "      <td>1482535</td>\n",
       "      <td>1225273</td>\n",
       "      <td>Bundle</td>\n",
       "      <td>2232</td>\n",
       "    </tr>\n",
       "    <tr>\n",
       "      <th>item_condition_id</th>\n",
       "      <td>1482535</td>\n",
       "      <td>5</td>\n",
       "      <td>1</td>\n",
       "      <td>640549</td>\n",
       "    </tr>\n",
       "    <tr>\n",
       "      <th>category_name</th>\n",
       "      <td>1476208</td>\n",
       "      <td>1287</td>\n",
       "      <td>Women/Athletic Apparel/Pants, Tights, Leggings</td>\n",
       "      <td>60177</td>\n",
       "    </tr>\n",
       "    <tr>\n",
       "      <th>brand_name</th>\n",
       "      <td>849853</td>\n",
       "      <td>4809</td>\n",
       "      <td>PINK</td>\n",
       "      <td>54088</td>\n",
       "    </tr>\n",
       "    <tr>\n",
       "      <th>price</th>\n",
       "      <td>1.48254e+06</td>\n",
       "      <td>828</td>\n",
       "      <td>10</td>\n",
       "      <td>99416</td>\n",
       "    </tr>\n",
       "    <tr>\n",
       "      <th>shipping</th>\n",
       "      <td>1482535</td>\n",
       "      <td>2</td>\n",
       "      <td>0</td>\n",
       "      <td>819435</td>\n",
       "    </tr>\n",
       "    <tr>\n",
       "      <th>item_description</th>\n",
       "      <td>1482531</td>\n",
       "      <td>1281426</td>\n",
       "      <td>No description yet</td>\n",
       "      <td>82489</td>\n",
       "    </tr>\n",
       "  </tbody>\n",
       "</table>\n",
       "</div>"
      ],
      "text/plain": [
       "                         count   unique  \\\n",
       "train_id               1482535  1482535   \n",
       "name                   1482535  1225273   \n",
       "item_condition_id      1482535        5   \n",
       "category_name          1476208     1287   \n",
       "brand_name              849853     4809   \n",
       "price              1.48254e+06      828   \n",
       "shipping               1482535        2   \n",
       "item_description       1482531  1281426   \n",
       "\n",
       "                                                              top    freq  \n",
       "train_id                                                  1482534       1  \n",
       "name                                                       Bundle    2232  \n",
       "item_condition_id                                               1  640549  \n",
       "category_name      Women/Athletic Apparel/Pants, Tights, Leggings   60177  \n",
       "brand_name                                                   PINK   54088  \n",
       "price                                                          10   99416  \n",
       "shipping                                                        0  819435  \n",
       "item_description                               No description yet   82489  "
      ]
     },
     "execution_count": 6,
     "metadata": {},
     "output_type": "execute_result"
    }
   ],
   "source": [
    "train.astype('object').describe().transpose()"
   ]
  },
  {
   "cell_type": "markdown",
   "metadata": {},
   "source": [
    "From the summary statistics we can observe that,\n",
    "<ul>\n",
    "<li>Most product prices are at $10</li>\n",
    "<li>There are around 83000 items with no description</li>\n",
    "<li>There are 4809 unique brands</li>\n",
    "<li>There are majority of women's products</li></ul>"
   ]
  },
  {
   "cell_type": "code",
   "execution_count": 7,
   "metadata": {},
   "outputs": [
    {
     "data": {
      "text/html": [
       "<div>\n",
       "<style scoped>\n",
       "    .dataframe tbody tr th:only-of-type {\n",
       "        vertical-align: middle;\n",
       "    }\n",
       "\n",
       "    .dataframe tbody tr th {\n",
       "        vertical-align: top;\n",
       "    }\n",
       "\n",
       "    .dataframe thead th {\n",
       "        text-align: right;\n",
       "    }\n",
       "</style>\n",
       "<table border=\"1\" class=\"dataframe\">\n",
       "  <thead>\n",
       "    <tr style=\"text-align: right;\">\n",
       "      <th></th>\n",
       "      <th>test_id</th>\n",
       "      <th>name</th>\n",
       "      <th>item_condition_id</th>\n",
       "      <th>category_name</th>\n",
       "      <th>brand_name</th>\n",
       "      <th>shipping</th>\n",
       "      <th>item_description</th>\n",
       "    </tr>\n",
       "  </thead>\n",
       "  <tbody>\n",
       "    <tr>\n",
       "      <th>0</th>\n",
       "      <td>0</td>\n",
       "      <td>Breast cancer \"I fight like a girl\" ring</td>\n",
       "      <td>1</td>\n",
       "      <td>Women/Jewelry/Rings</td>\n",
       "      <td>NaN</td>\n",
       "      <td>1</td>\n",
       "      <td>Size 7</td>\n",
       "    </tr>\n",
       "    <tr>\n",
       "      <th>1</th>\n",
       "      <td>1</td>\n",
       "      <td>25 pcs NEW 7.5\"x12\" Kraft Bubble Mailers</td>\n",
       "      <td>1</td>\n",
       "      <td>Other/Office supplies/Shipping Supplies</td>\n",
       "      <td>NaN</td>\n",
       "      <td>1</td>\n",
       "      <td>25 pcs NEW 7.5\"x12\" Kraft Bubble Mailers Lined...</td>\n",
       "    </tr>\n",
       "    <tr>\n",
       "      <th>2</th>\n",
       "      <td>2</td>\n",
       "      <td>Coach bag</td>\n",
       "      <td>1</td>\n",
       "      <td>Vintage &amp; Collectibles/Bags and Purses/Handbag</td>\n",
       "      <td>Coach</td>\n",
       "      <td>1</td>\n",
       "      <td>Brand new coach bag. Bought for [rm] at a Coac...</td>\n",
       "    </tr>\n",
       "    <tr>\n",
       "      <th>3</th>\n",
       "      <td>3</td>\n",
       "      <td>Floral Kimono</td>\n",
       "      <td>2</td>\n",
       "      <td>Women/Sweaters/Cardigan</td>\n",
       "      <td>NaN</td>\n",
       "      <td>0</td>\n",
       "      <td>-floral kimono -never worn -lightweight and pe...</td>\n",
       "    </tr>\n",
       "    <tr>\n",
       "      <th>4</th>\n",
       "      <td>4</td>\n",
       "      <td>Life after Death</td>\n",
       "      <td>3</td>\n",
       "      <td>Other/Books/Religion &amp; Spirituality</td>\n",
       "      <td>NaN</td>\n",
       "      <td>1</td>\n",
       "      <td>Rediscovering life after the loss of a loved o...</td>\n",
       "    </tr>\n",
       "  </tbody>\n",
       "</table>\n",
       "</div>"
      ],
      "text/plain": [
       "   test_id                                      name  item_condition_id  \\\n",
       "0        0  Breast cancer \"I fight like a girl\" ring                  1   \n",
       "1        1  25 pcs NEW 7.5\"x12\" Kraft Bubble Mailers                  1   \n",
       "2        2                                 Coach bag                  1   \n",
       "3        3                             Floral Kimono                  2   \n",
       "4        4                          Life after Death                  3   \n",
       "\n",
       "                                    category_name brand_name  shipping  \\\n",
       "0                             Women/Jewelry/Rings        NaN         1   \n",
       "1         Other/Office supplies/Shipping Supplies        NaN         1   \n",
       "2  Vintage & Collectibles/Bags and Purses/Handbag      Coach         1   \n",
       "3                         Women/Sweaters/Cardigan        NaN         0   \n",
       "4             Other/Books/Religion & Spirituality        NaN         1   \n",
       "\n",
       "                                    item_description  \n",
       "0                                             Size 7  \n",
       "1  25 pcs NEW 7.5\"x12\" Kraft Bubble Mailers Lined...  \n",
       "2  Brand new coach bag. Bought for [rm] at a Coac...  \n",
       "3  -floral kimono -never worn -lightweight and pe...  \n",
       "4  Rediscovering life after the loss of a loved o...  "
      ]
     },
     "execution_count": 7,
     "metadata": {},
     "output_type": "execute_result"
    }
   ],
   "source": [
    "# Exploring testing data\n",
    "test.head()"
   ]
  },
  {
   "cell_type": "code",
   "execution_count": 8,
   "metadata": {},
   "outputs": [
    {
     "name": "stdout",
     "output_type": "stream",
     "text": [
      "Test data size is: (693359, 7)\n"
     ]
    }
   ],
   "source": [
    "print(\"Test data size is: \" + str(test.shape))\n"
   ]
  },
  {
   "cell_type": "markdown",
   "metadata": {},
   "source": [
    "There are around 700,000 observations in the test dataset."
   ]
  },
  {
   "cell_type": "markdown",
   "metadata": {},
   "source": [
    "##  Data Cleaning "
   ]
  },
  {
   "cell_type": "code",
   "execution_count": 9,
   "metadata": {},
   "outputs": [
    {
     "data": {
      "text/plain": [
       "train_id                  0\n",
       "name                      0\n",
       "item_condition_id         0\n",
       "category_name          6327\n",
       "brand_name           632682\n",
       "price                     0\n",
       "shipping                  0\n",
       "item_description          4\n",
       "dtype: int64"
      ]
     },
     "execution_count": 9,
     "metadata": {},
     "output_type": "execute_result"
    }
   ],
   "source": [
    "train.isnull().sum()"
   ]
  },
  {
   "cell_type": "markdown",
   "metadata": {},
   "source": [
    "Brand name, category name and item description values are missing."
   ]
  },
  {
   "cell_type": "code",
   "execution_count": 10,
   "metadata": {},
   "outputs": [],
   "source": [
    "#Imputing missing values\n",
    "def miss_val(data):\n",
    "    data['category_name'].fillna(value = 'Other', inplace=True)\n",
    "    data['brand_name'].fillna(value = 'Unknown', inplace=True)\n",
    "    data['item_description'].fillna(value='No description available', inplace=True)\n",
    "    return data"
   ]
  },
  {
   "cell_type": "code",
   "execution_count": 11,
   "metadata": {},
   "outputs": [
    {
     "data": {
      "text/plain": [
       "train_id             0\n",
       "name                 0\n",
       "item_condition_id    0\n",
       "category_name        0\n",
       "brand_name           0\n",
       "price                0\n",
       "shipping             0\n",
       "item_description     0\n",
       "dtype: int64"
      ]
     },
     "execution_count": 11,
     "metadata": {},
     "output_type": "execute_result"
    }
   ],
   "source": [
    "train = miss_val(train)\n",
    "train.isnull().sum()"
   ]
  },
  {
   "cell_type": "markdown",
   "metadata": {},
   "source": [
    "## Exploratory Data Analysis"
   ]
  },
  {
   "cell_type": "markdown",
   "metadata": {},
   "source": [
    "### Observing the target feature (Price)"
   ]
  },
  {
   "cell_type": "code",
   "execution_count": 12,
   "metadata": {},
   "outputs": [
    {
     "data": {
      "text/plain": [
       "count    1.482535e+06\n",
       "mean     2.673752e+01\n",
       "std      3.858607e+01\n",
       "min      0.000000e+00\n",
       "25%      1.000000e+01\n",
       "50%      1.700000e+01\n",
       "75%      2.900000e+01\n",
       "max      2.009000e+03\n",
       "Name: price, dtype: float64"
      ]
     },
     "execution_count": 12,
     "metadata": {},
     "output_type": "execute_result"
    }
   ],
   "source": [
    "train['price'].describe()"
   ]
  },
  {
   "cell_type": "code",
   "execution_count": 13,
   "metadata": {},
   "outputs": [
    {
     "data": {
      "text/plain": [
       "Text(0.5, 1.0, 'Distribution of Price')"
      ]
     },
     "execution_count": 13,
     "metadata": {},
     "output_type": "execute_result"
    },
    {
     "data": {
      "image/png": "[encoded data removed]",
      "text/plain": [
       "<Figure size 1440x1008 with 1 Axes>"
      ]
     },
     "metadata": {
      "needs_background": "light"
     },
     "output_type": "display_data"
    }
   ],
   "source": [
    "### Distribution of Price\n",
    "plt.figure(figsize =(20,14))\n",
    "(train['price']).plot.hist(bins=50, edgecolor='white', range=[0,250])\n",
    "plt.xlabel('Price', fontsize=15)\n",
    "plt.title('Distribution of Price', fontsize=15)"
   ]
  },
  {
   "cell_type": "markdown",
   "metadata": {},
   "source": [
    "We can see that the price distribution is highly skewed. So we will apply log transformation to fix this skewness problem. Log transformation will convert its distribution to normal distribution."
   ]
  },
  {
   "cell_type": "code",
   "execution_count": 14,
   "metadata": {},
   "outputs": [
    {
     "data": {
      "image/png": "[encoded data removed]",
      "text/plain": [
       "<Figure size 1440x1008 with 1 Axes>"
      ]
     },
     "metadata": {
      "needs_background": "light"
     },
     "output_type": "display_data"
    }
   ],
   "source": [
    "plt.figure(figsize=(20,14))\n",
    "np.log(train['price']+1).plot.hist(bins=50, edgecolor ='white')\n",
    "plt.xlabel('log(price+1)', fontsize =15)\n",
    "plt.title('Log Price Distribution', fontsize=15)\n",
    "plt.show()"
   ]
  },
  {
   "cell_type": "markdown",
   "metadata": {},
   "source": [
    "### Eliminating products which have price $0"
   ]
  },
  {
   "cell_type": "code",
   "execution_count": 15,
   "metadata": {},
   "outputs": [
    {
     "data": {
      "text/html": [
       "<div>\n",
       "<style scoped>\n",
       "    .dataframe tbody tr th:only-of-type {\n",
       "        vertical-align: middle;\n",
       "    }\n",
       "\n",
       "    .dataframe tbody tr th {\n",
       "        vertical-align: top;\n",
       "    }\n",
       "\n",
       "    .dataframe thead th {\n",
       "        text-align: right;\n",
       "    }\n",
       "</style>\n",
       "<table border=\"1\" class=\"dataframe\">\n",
       "  <thead>\n",
       "    <tr style=\"text-align: right;\">\n",
       "      <th></th>\n",
       "      <th>train_id</th>\n",
       "      <th>name</th>\n",
       "      <th>item_condition_id</th>\n",
       "      <th>category_name</th>\n",
       "      <th>brand_name</th>\n",
       "      <th>price</th>\n",
       "      <th>shipping</th>\n",
       "      <th>item_description</th>\n",
       "    </tr>\n",
       "  </thead>\n",
       "  <tbody>\n",
       "    <tr>\n",
       "      <th>1325</th>\n",
       "      <td>1325</td>\n",
       "      <td>Alabama Crimson Tide Quality Lanyard</td>\n",
       "      <td>1</td>\n",
       "      <td>Sports &amp; Outdoors/Fan Shop/NCAA</td>\n",
       "      <td>Unknown</td>\n",
       "      <td>0.0</td>\n",
       "      <td>1</td>\n",
       "      <td>TOP QUALITY THICK LANYARD Reversible sides wit...</td>\n",
       "    </tr>\n",
       "    <tr>\n",
       "      <th>2544</th>\n",
       "      <td>2544</td>\n",
       "      <td>Levi leggings</td>\n",
       "      <td>3</td>\n",
       "      <td>Women/Jeans/Slim, Skinny</td>\n",
       "      <td>Levi's®</td>\n",
       "      <td>0.0</td>\n",
       "      <td>0</td>\n",
       "      <td>Light wash. Hardly worn. Size 24 but fits like...</td>\n",
       "    </tr>\n",
       "    <tr>\n",
       "      <th>2712</th>\n",
       "      <td>2712</td>\n",
       "      <td>Simple Red Lace Lingerie Top</td>\n",
       "      <td>3</td>\n",
       "      <td>Women/Underwear/G-Strings &amp; Thongs</td>\n",
       "      <td>Unknown</td>\n",
       "      <td>0.0</td>\n",
       "      <td>0</td>\n",
       "      <td>Very simple but cute, a little form fitting as...</td>\n",
       "    </tr>\n",
       "    <tr>\n",
       "      <th>3576</th>\n",
       "      <td>3576</td>\n",
       "      <td>Turquoise 15 Pc Makeup Brush Set</td>\n",
       "      <td>1</td>\n",
       "      <td>Beauty/Tools &amp; Accessories/Makeup Brushes &amp; Tools</td>\n",
       "      <td>Unknown</td>\n",
       "      <td>0.0</td>\n",
       "      <td>1</td>\n",
       "      <td>1 left!</td>\n",
       "    </tr>\n",
       "    <tr>\n",
       "      <th>3761</th>\n",
       "      <td>3761</td>\n",
       "      <td>Girls size 7/8</td>\n",
       "      <td>3</td>\n",
       "      <td>Kids/Girls (4+)/Tops &amp; T-Shirts</td>\n",
       "      <td>Unknown</td>\n",
       "      <td>0.0</td>\n",
       "      <td>1</td>\n",
       "      <td>5 pair gap jean excellent used condition 3 chi...</td>\n",
       "    </tr>\n",
       "    <tr>\n",
       "      <th>5237</th>\n",
       "      <td>5237</td>\n",
       "      <td>Nursing Bra</td>\n",
       "      <td>3</td>\n",
       "      <td>Women/Underwear/Bras</td>\n",
       "      <td>Motherhood Maternity</td>\n",
       "      <td>0.0</td>\n",
       "      <td>0</td>\n",
       "      <td>Used a few times but was not able to nurse</td>\n",
       "    </tr>\n",
       "    <tr>\n",
       "      <th>6175</th>\n",
       "      <td>6175</td>\n",
       "      <td>Multi Listing Bundled Package, Thanks</td>\n",
       "      <td>2</td>\n",
       "      <td>Electronics/Media/DVD</td>\n",
       "      <td>Unknown</td>\n",
       "      <td>0.0</td>\n",
       "      <td>1</td>\n",
       "      <td>1)Large Collection of Full Length Strawberry S...</td>\n",
       "    </tr>\n",
       "    <tr>\n",
       "      <th>7116</th>\n",
       "      <td>7116</td>\n",
       "      <td>Nike Dri-Fit High Power Speed Tights</td>\n",
       "      <td>1</td>\n",
       "      <td>Women/Athletic Apparel/Pants, Tights, Leggings</td>\n",
       "      <td>Nike</td>\n",
       "      <td>0.0</td>\n",
       "      <td>1</td>\n",
       "      <td>Bought at Nike store in New York, Brand New, N...</td>\n",
       "    </tr>\n",
       "    <tr>\n",
       "      <th>7622</th>\n",
       "      <td>7622</td>\n",
       "      <td>Hands free earpiece</td>\n",
       "      <td>1</td>\n",
       "      <td>Electronics/Cell Phones &amp; Accessories/Headsets</td>\n",
       "      <td>Unknown</td>\n",
       "      <td>0.0</td>\n",
       "      <td>0</td>\n",
       "      <td>Wireless Bluetooth hands free used with Samsun...</td>\n",
       "    </tr>\n",
       "    <tr>\n",
       "      <th>10812</th>\n",
       "      <td>10812</td>\n",
       "      <td>Vampire candy bowl</td>\n",
       "      <td>1</td>\n",
       "      <td>Home/Seasonal Décor/Halloween</td>\n",
       "      <td>Unknown</td>\n",
       "      <td>0.0</td>\n",
       "      <td>0</td>\n",
       "      <td>New good condition for halloween</td>\n",
       "    </tr>\n",
       "    <tr>\n",
       "      <th>12738</th>\n",
       "      <td>12738</td>\n",
       "      <td>Beautiful Janie and Jack loafers sz 4</td>\n",
       "      <td>2</td>\n",
       "      <td>Kids/Boys 2T-5T/Shoes</td>\n",
       "      <td>Janie and Jack</td>\n",
       "      <td>0.0</td>\n",
       "      <td>0</td>\n",
       "      <td>Like New</td>\n",
       "    </tr>\n",
       "    <tr>\n",
       "      <th>17617</th>\n",
       "      <td>17617</td>\n",
       "      <td>Coca Cola Stuffed Bears</td>\n",
       "      <td>3</td>\n",
       "      <td>Kids/Toys/Stuffed Animals &amp; Plush</td>\n",
       "      <td>Unknown</td>\n",
       "      <td>0.0</td>\n",
       "      <td>0</td>\n",
       "      <td>Coca Cola plush adorable bears to start your c...</td>\n",
       "    </tr>\n",
       "    <tr>\n",
       "      <th>17831</th>\n",
       "      <td>17831</td>\n",
       "      <td>Holographic sequin bra</td>\n",
       "      <td>3</td>\n",
       "      <td>Women/Underwear/Bras</td>\n",
       "      <td>Unknown</td>\n",
       "      <td>0.0</td>\n",
       "      <td>0</td>\n",
       "      <td>Holographic Sequin bra 36B No brand</td>\n",
       "    </tr>\n",
       "    <tr>\n",
       "      <th>18324</th>\n",
       "      <td>18324</td>\n",
       "      <td>Pura 11 oz straw cup, swirl pink</td>\n",
       "      <td>1</td>\n",
       "      <td>Other</td>\n",
       "      <td>Unknown</td>\n",
       "      <td>0.0</td>\n",
       "      <td>1</td>\n",
       "      <td>100% plastic free straw bottle easily transiti...</td>\n",
       "    </tr>\n",
       "    <tr>\n",
       "      <th>19909</th>\n",
       "      <td>19909</td>\n",
       "      <td>Obey Floral Snapback Hat</td>\n",
       "      <td>2</td>\n",
       "      <td>Men/Men's Accessories/Hats</td>\n",
       "      <td>Obey</td>\n",
       "      <td>0.0</td>\n",
       "      <td>0</td>\n",
       "      <td>A friend sold me this hat although I don't wea...</td>\n",
       "    </tr>\n",
       "    <tr>\n",
       "      <th>20986</th>\n",
       "      <td>20986</td>\n",
       "      <td>Sale! Varied sizes - Rock N' Roll t</td>\n",
       "      <td>1</td>\n",
       "      <td>Women/Tops &amp; Blouses/T-Shirts</td>\n",
       "      <td>Unknown</td>\n",
       "      <td>0.0</td>\n",
       "      <td>0</td>\n",
       "      <td>Really cute sleeveless tee! Perfect for that s...</td>\n",
       "    </tr>\n",
       "    <tr>\n",
       "      <th>22876</th>\n",
       "      <td>22876</td>\n",
       "      <td>Quay Australia Sunnies - Barely Worn</td>\n",
       "      <td>2</td>\n",
       "      <td>Women/Women's Accessories/Sunglasses</td>\n",
       "      <td>Unknown</td>\n",
       "      <td>0.0</td>\n",
       "      <td>0</td>\n",
       "      <td>But directly from Quay Have worn 3 times Alway...</td>\n",
       "    </tr>\n",
       "    <tr>\n",
       "      <th>24288</th>\n",
       "      <td>24288</td>\n",
       "      <td>Fred Jackson Autographed Mini Helmet</td>\n",
       "      <td>2</td>\n",
       "      <td>Sports &amp; Outdoors/Fan Shop/NFL</td>\n",
       "      <td>Unknown</td>\n",
       "      <td>0.0</td>\n",
       "      <td>1</td>\n",
       "      <td>Autographed by former Bills star running back ...</td>\n",
       "    </tr>\n",
       "    <tr>\n",
       "      <th>28091</th>\n",
       "      <td>28091</td>\n",
       "      <td>Jordan Cris Shoes Size 2</td>\n",
       "      <td>1</td>\n",
       "      <td>Kids/Boys 0-24 Mos/Shoes</td>\n",
       "      <td>Nike</td>\n",
       "      <td>0.0</td>\n",
       "      <td>1</td>\n",
       "      <td>Bought from another seller and too small</td>\n",
       "    </tr>\n",
       "    <tr>\n",
       "      <th>28701</th>\n",
       "      <td>28701</td>\n",
       "      <td>Lace Up Bodysuit * On Hold</td>\n",
       "      <td>2</td>\n",
       "      <td>Other</td>\n",
       "      <td>Nordstrom</td>\n",
       "      <td>0.0</td>\n",
       "      <td>0</td>\n",
       "      <td>From nordstroms. Literally worn once but was t...</td>\n",
       "    </tr>\n",
       "    <tr>\n",
       "      <th>29240</th>\n",
       "      <td>29240</td>\n",
       "      <td>Baby K'Tan Wrap Carrier</td>\n",
       "      <td>3</td>\n",
       "      <td>Kids/Gear/Backpacks &amp; Carriers</td>\n",
       "      <td>All</td>\n",
       "      <td>0.0</td>\n",
       "      <td>0</td>\n",
       "      <td>Super comfy infant carrier in color \"eggplant\"...</td>\n",
       "    </tr>\n",
       "    <tr>\n",
       "      <th>29702</th>\n",
       "      <td>29702</td>\n",
       "      <td>Old Navy White Polka Dot Shorts Size 16</td>\n",
       "      <td>2</td>\n",
       "      <td>Women/Athletic Apparel/Shorts</td>\n",
       "      <td>Old Navy</td>\n",
       "      <td>0.0</td>\n",
       "      <td>0</td>\n",
       "      <td>Old Navy white with small black polka dots wov...</td>\n",
       "    </tr>\n",
       "    <tr>\n",
       "      <th>29826</th>\n",
       "      <td>29826</td>\n",
       "      <td>Geo Mountains/ Triangles Pillow Set Of 2</td>\n",
       "      <td>1</td>\n",
       "      <td>Home/Home Décor/Decorative Pillows</td>\n",
       "      <td>Unknown</td>\n",
       "      <td>0.0</td>\n",
       "      <td>0</td>\n",
       "      <td>Accent pillows liven up a room &amp; give it insta...</td>\n",
       "    </tr>\n",
       "    <tr>\n",
       "      <th>33056</th>\n",
       "      <td>33056</td>\n",
       "      <td>Viking compass leathercoinpurse guidance</td>\n",
       "      <td>1</td>\n",
       "      <td>Handmade/Bags and Purses/Pouch</td>\n",
       "      <td>Unknown</td>\n",
       "      <td>0.0</td>\n",
       "      <td>1</td>\n",
       "      <td>Leather coin purse hand made by me with viking...</td>\n",
       "    </tr>\n",
       "    <tr>\n",
       "      <th>33176</th>\n",
       "      <td>33176</td>\n",
       "      <td>Bushnell Golf Watch</td>\n",
       "      <td>2</td>\n",
       "      <td>Sports &amp; Outdoors/Golf/Golf Apparel</td>\n",
       "      <td>Bushnell</td>\n",
       "      <td>0.0</td>\n",
       "      <td>0</td>\n",
       "      <td>Mens Bushnell Golf watch NWOT If you are a gol...</td>\n",
       "    </tr>\n",
       "    <tr>\n",
       "      <th>33624</th>\n",
       "      <td>33624</td>\n",
       "      <td>Michael Kors Medium Selma Dune</td>\n",
       "      <td>1</td>\n",
       "      <td>Women/Women's Handbags/Satchel</td>\n",
       "      <td>Michael Kors</td>\n",
       "      <td>0.0</td>\n",
       "      <td>0</td>\n",
       "      <td>Brand new Dark dune color Willing to create bu...</td>\n",
       "    </tr>\n",
       "    <tr>\n",
       "      <th>33862</th>\n",
       "      <td>33862</td>\n",
       "      <td>Sexy cocktail dress</td>\n",
       "      <td>2</td>\n",
       "      <td>Women/Dresses/Above Knee, Mini</td>\n",
       "      <td>Unknown</td>\n",
       "      <td>0.0</td>\n",
       "      <td>1</td>\n",
       "      <td>Very short comes with a thong. It was advertis...</td>\n",
       "    </tr>\n",
       "    <tr>\n",
       "      <th>35216</th>\n",
       "      <td>35216</td>\n",
       "      <td>VS Bra</td>\n",
       "      <td>2</td>\n",
       "      <td>Women/Underwear/Bras</td>\n",
       "      <td>Victoria's Secret</td>\n",
       "      <td>0.0</td>\n",
       "      <td>0</td>\n",
       "      <td>34DD hot pink</td>\n",
       "    </tr>\n",
       "    <tr>\n",
       "      <th>38132</th>\n",
       "      <td>38132</td>\n",
       "      <td>Vlone T-shirt Palace Bape Supreme</td>\n",
       "      <td>2</td>\n",
       "      <td>Men/Tops/T-shirts</td>\n",
       "      <td>Unknown</td>\n",
       "      <td>0.0</td>\n",
       "      <td>0</td>\n",
       "      <td>Very rare vlone serpent t shirt Worn once!! Pr...</td>\n",
       "    </tr>\n",
       "    <tr>\n",
       "      <th>39519</th>\n",
       "      <td>39519</td>\n",
       "      <td>Jordan shoe's Girls size 12c,used</td>\n",
       "      <td>3</td>\n",
       "      <td>Kids/Girls 2T-5T/Shoes</td>\n",
       "      <td>Nike</td>\n",
       "      <td>0.0</td>\n",
       "      <td>0</td>\n",
       "      <td>This is a used pair of Jordan shoe's girls siz...</td>\n",
       "    </tr>\n",
       "    <tr>\n",
       "      <th>...</th>\n",
       "      <td>...</td>\n",
       "      <td>...</td>\n",
       "      <td>...</td>\n",
       "      <td>...</td>\n",
       "      <td>...</td>\n",
       "      <td>...</td>\n",
       "      <td>...</td>\n",
       "      <td>...</td>\n",
       "    </tr>\n",
       "    <tr>\n",
       "      <th>1430798</th>\n",
       "      <td>1430798</td>\n",
       "      <td>Two Tone Leather Bag</td>\n",
       "      <td>1</td>\n",
       "      <td>Women/Women's Handbags/Messenger &amp; Crossbody</td>\n",
       "      <td>ZARA</td>\n",
       "      <td>0.0</td>\n",
       "      <td>0</td>\n",
       "      <td>Lovely two toned 3 zipper pocket chain purse</td>\n",
       "    </tr>\n",
       "    <tr>\n",
       "      <th>1432284</th>\n",
       "      <td>1432284</td>\n",
       "      <td>Mk Purse</td>\n",
       "      <td>4</td>\n",
       "      <td>Women/Women's Handbags/Shoulder Bag</td>\n",
       "      <td>Michael Kors</td>\n",
       "      <td>0.0</td>\n",
       "      <td>0</td>\n",
       "      <td>It's a well loved purse it has color fading in...</td>\n",
       "    </tr>\n",
       "    <tr>\n",
       "      <th>1440173</th>\n",
       "      <td>1440173</td>\n",
       "      <td>Brand new Kanye West Life of Pablo Hat</td>\n",
       "      <td>2</td>\n",
       "      <td>Women/Women's Accessories/Hats</td>\n",
       "      <td>Yeezy</td>\n",
       "      <td>0.0</td>\n",
       "      <td>0</td>\n",
       "      <td>Brand New Kanye West Los Angeles Hat. Bought f...</td>\n",
       "    </tr>\n",
       "    <tr>\n",
       "      <th>1440325</th>\n",
       "      <td>1440325</td>\n",
       "      <td>Galaxy Tab A 8.0 Case/ Windshield Cleane</td>\n",
       "      <td>1</td>\n",
       "      <td>Electronics/Computers &amp; Tablets/iPad/Tablet/eB...</td>\n",
       "      <td>Samsung</td>\n",
       "      <td>0.0</td>\n",
       "      <td>1</td>\n",
       "      <td>Super cute I-Blason armourbox kids brand new w...</td>\n",
       "    </tr>\n",
       "    <tr>\n",
       "      <th>1442657</th>\n",
       "      <td>1442657</td>\n",
       "      <td>Lularoe Disney TC LEGGINGS NWT</td>\n",
       "      <td>1</td>\n",
       "      <td>Women/Athletic Apparel/Pants, Tights, Leggings</td>\n",
       "      <td>LuLaRoe</td>\n",
       "      <td>0.0</td>\n",
       "      <td>0</td>\n",
       "      <td>My FAVORITE!! LOL, I have a pair and wearing t...</td>\n",
       "    </tr>\n",
       "    <tr>\n",
       "      <th>1445675</th>\n",
       "      <td>1445675</td>\n",
       "      <td>14g Clear on Gold Sml Prong Nipple Rings</td>\n",
       "      <td>1</td>\n",
       "      <td>Other</td>\n",
       "      <td>Unknown</td>\n",
       "      <td>0.0</td>\n",
       "      <td>1</td>\n",
       "      <td>14g Clear on Gold Small Prong Nipple Rings Bar...</td>\n",
       "    </tr>\n",
       "    <tr>\n",
       "      <th>1446187</th>\n",
       "      <td>1446187</td>\n",
       "      <td>Handcrafted Jadeite Frogs and Crystals</td>\n",
       "      <td>2</td>\n",
       "      <td>Women/Jewelry/Bracelets</td>\n",
       "      <td>Unknown</td>\n",
       "      <td>0.0</td>\n",
       "      <td>0</td>\n",
       "      <td>Handcrafted Green Jadeite Carved Good Luck Fro...</td>\n",
       "    </tr>\n",
       "    <tr>\n",
       "      <th>1449089</th>\n",
       "      <td>1449089</td>\n",
       "      <td>REVLON 16hr Colorstay</td>\n",
       "      <td>1</td>\n",
       "      <td>Other</td>\n",
       "      <td>Revlon</td>\n",
       "      <td>0.0</td>\n",
       "      <td>0</td>\n",
       "      <td>Colorstay overtime never used or tested 100% N...</td>\n",
       "    </tr>\n",
       "    <tr>\n",
       "      <th>1449359</th>\n",
       "      <td>1449359</td>\n",
       "      <td>PORCELAIN L.A. Girl HD Pro Concealer</td>\n",
       "      <td>1</td>\n",
       "      <td>Beauty/Makeup/Face</td>\n",
       "      <td>Unknown</td>\n",
       "      <td>0.0</td>\n",
       "      <td>1</td>\n",
       "      <td>FOR OTHER AND BUNDLES, PLEASE MESSAGE ME. L.A....</td>\n",
       "    </tr>\n",
       "    <tr>\n",
       "      <th>1449450</th>\n",
       "      <td>1449450</td>\n",
       "      <td>VS Pink Push Up Bralette Large</td>\n",
       "      <td>1</td>\n",
       "      <td>Women/Athletic Apparel/Sports Bras</td>\n",
       "      <td>Victoria's Secret</td>\n",
       "      <td>0.0</td>\n",
       "      <td>1</td>\n",
       "      <td>New with tags Large fits 38A-C</td>\n",
       "    </tr>\n",
       "    <tr>\n",
       "      <th>1452401</th>\n",
       "      <td>1452401</td>\n",
       "      <td>american eagle stripped shirt</td>\n",
       "      <td>2</td>\n",
       "      <td>Women/Tops &amp; Blouses/T-Shirts</td>\n",
       "      <td>American Eagle</td>\n",
       "      <td>0.0</td>\n",
       "      <td>0</td>\n",
       "      <td>No description yet</td>\n",
       "    </tr>\n",
       "    <tr>\n",
       "      <th>1456460</th>\n",
       "      <td>1456460</td>\n",
       "      <td>New Frozen Shoes size 6</td>\n",
       "      <td>1</td>\n",
       "      <td>Kids/Girls 0-24 Mos/Shoes</td>\n",
       "      <td>Disney</td>\n",
       "      <td>0.0</td>\n",
       "      <td>1</td>\n",
       "      <td>New with tags. Adorable Disney's frozen tennis...</td>\n",
       "    </tr>\n",
       "    <tr>\n",
       "      <th>1458474</th>\n",
       "      <td>1458474</td>\n",
       "      <td>Victoria's Secret PINK bra</td>\n",
       "      <td>2</td>\n",
       "      <td>Women/Underwear/Bras</td>\n",
       "      <td>PINK</td>\n",
       "      <td>0.0</td>\n",
       "      <td>0</td>\n",
       "      <td>Never worn zebra print perfect for summer supe...</td>\n",
       "    </tr>\n",
       "    <tr>\n",
       "      <th>1460118</th>\n",
       "      <td>1460118</td>\n",
       "      <td>Flowy tank top plus size blouse 2xl</td>\n",
       "      <td>3</td>\n",
       "      <td>Women/Tops &amp; Blouses/Tank, Cami</td>\n",
       "      <td>Unknown</td>\n",
       "      <td>0.0</td>\n",
       "      <td>0</td>\n",
       "      <td>No description yet</td>\n",
       "    </tr>\n",
       "    <tr>\n",
       "      <th>1461712</th>\n",
       "      <td>1461712</td>\n",
       "      <td>Nike Airmax</td>\n",
       "      <td>2</td>\n",
       "      <td>Women/Shoes/Fashion Sneakers</td>\n",
       "      <td>Nike</td>\n",
       "      <td>0.0</td>\n",
       "      <td>0</td>\n",
       "      <td>Rose gold Nike Airmax only worn twice kept in ...</td>\n",
       "    </tr>\n",
       "    <tr>\n",
       "      <th>1462168</th>\n",
       "      <td>1462168</td>\n",
       "      <td>Too Faced Born This Way Foundation Sand</td>\n",
       "      <td>2</td>\n",
       "      <td>Beauty/Makeup/Face</td>\n",
       "      <td>Too Faced</td>\n",
       "      <td>0.0</td>\n",
       "      <td>1</td>\n",
       "      <td>Brand new! used once and just did not match my...</td>\n",
       "    </tr>\n",
       "    <tr>\n",
       "      <th>1463021</th>\n",
       "      <td>1463021</td>\n",
       "      <td>faux fur coat</td>\n",
       "      <td>3</td>\n",
       "      <td>Women/Coats &amp; Jackets/Fleece Jacket</td>\n",
       "      <td>Unknown</td>\n",
       "      <td>0.0</td>\n",
       "      <td>0</td>\n",
       "      <td>juniors large faux fur coat.. winter white in ...</td>\n",
       "    </tr>\n",
       "    <tr>\n",
       "      <th>1463174</th>\n",
       "      <td>1463174</td>\n",
       "      <td>Marc Jacobs wristlet/Wallet</td>\n",
       "      <td>3</td>\n",
       "      <td>Women/Women's Accessories/Wallets</td>\n",
       "      <td>MARC BY MARC JACOBS</td>\n",
       "      <td>0.0</td>\n",
       "      <td>0</td>\n",
       "      <td>No description yet</td>\n",
       "    </tr>\n",
       "    <tr>\n",
       "      <th>1463577</th>\n",
       "      <td>1463577</td>\n",
       "      <td>Soft striped pijama</td>\n",
       "      <td>2</td>\n",
       "      <td>Kids/Boys 0-24 Mos/One-Pieces</td>\n",
       "      <td>Carter's</td>\n",
       "      <td>0.0</td>\n",
       "      <td>0</td>\n",
       "      <td>No flaws just to small.</td>\n",
       "    </tr>\n",
       "    <tr>\n",
       "      <th>1464583</th>\n",
       "      <td>1464583</td>\n",
       "      <td>Ardell Lashes Demi Wispies</td>\n",
       "      <td>2</td>\n",
       "      <td>Beauty/Makeup/Eyes</td>\n",
       "      <td>Ardell</td>\n",
       "      <td>0.0</td>\n",
       "      <td>0</td>\n",
       "      <td>I've used one pair, but others are completely ...</td>\n",
       "    </tr>\n",
       "    <tr>\n",
       "      <th>1465545</th>\n",
       "      <td>1465545</td>\n",
       "      <td>Infant Timberland Boots</td>\n",
       "      <td>1</td>\n",
       "      <td>Kids/Boys 0-24 Mos/Shoes</td>\n",
       "      <td>Unknown</td>\n",
       "      <td>0.0</td>\n",
       "      <td>0</td>\n",
       "      <td>Brand new infant Timberland Boots w/box. Size 3</td>\n",
       "    </tr>\n",
       "    <tr>\n",
       "      <th>1467318</th>\n",
       "      <td>1467318</td>\n",
       "      <td>Certified Vegan Card Case New! Blue/Gray</td>\n",
       "      <td>1</td>\n",
       "      <td>Women/Women's Accessories/Wallets</td>\n",
       "      <td>Unknown</td>\n",
       "      <td>0.0</td>\n",
       "      <td>1</td>\n",
       "      <td>New w/o tags Beautiful Blue Gray CERTIFIED VEG...</td>\n",
       "    </tr>\n",
       "    <tr>\n",
       "      <th>1467698</th>\n",
       "      <td>1467698</td>\n",
       "      <td>Rock Revivals Men's Size 29 Jeans</td>\n",
       "      <td>3</td>\n",
       "      <td>Men/Jeans/Classic, Straight Leg</td>\n",
       "      <td>Rock Revival</td>\n",
       "      <td>0.0</td>\n",
       "      <td>0</td>\n",
       "      <td>Men's size 29 Tay slim-straight jeans.</td>\n",
       "    </tr>\n",
       "    <tr>\n",
       "      <th>1469806</th>\n",
       "      <td>1469806</td>\n",
       "      <td>Hp 11x Ink cartridge</td>\n",
       "      <td>1</td>\n",
       "      <td>Other/Office supplies/Ink &amp; Toner</td>\n",
       "      <td>Unknown</td>\n",
       "      <td>0.0</td>\n",
       "      <td>0</td>\n",
       "      <td>new in box.</td>\n",
       "    </tr>\n",
       "    <tr>\n",
       "      <th>1471721</th>\n",
       "      <td>1471721</td>\n",
       "      <td>Waist Trainer Corset Size S Only</td>\n",
       "      <td>1</td>\n",
       "      <td>Sports &amp; Outdoors/Exercise/Fitness accessories</td>\n",
       "      <td>Unknown</td>\n",
       "      <td>0.0</td>\n",
       "      <td>1</td>\n",
       "      <td>Material. Natural rubber cotton neoprene ,3 ho...</td>\n",
       "    </tr>\n",
       "    <tr>\n",
       "      <th>1474172</th>\n",
       "      <td>1474172</td>\n",
       "      <td>Homecoming or Dama ivory dress</td>\n",
       "      <td>2</td>\n",
       "      <td>Women/Dresses/Above Knee, Mini</td>\n",
       "      <td>Unknown</td>\n",
       "      <td>0.0</td>\n",
       "      <td>0</td>\n",
       "      <td>Ivory formal dress. I wore this dress once for...</td>\n",
       "    </tr>\n",
       "    <tr>\n",
       "      <th>1474198</th>\n",
       "      <td>1474198</td>\n",
       "      <td>Tie up flannel top</td>\n",
       "      <td>3</td>\n",
       "      <td>Women/Tops &amp; Blouses/Blouse</td>\n",
       "      <td>Unknown</td>\n",
       "      <td>0.0</td>\n",
       "      <td>1</td>\n",
       "      <td>I got this last year and just didnt wear it mu...</td>\n",
       "    </tr>\n",
       "    <tr>\n",
       "      <th>1477958</th>\n",
       "      <td>1477958</td>\n",
       "      <td>Rae Dunn Measuring Pear</td>\n",
       "      <td>3</td>\n",
       "      <td>Home/Home Décor/Home Décor Accents</td>\n",
       "      <td>Unknown</td>\n",
       "      <td>0.0</td>\n",
       "      <td>0</td>\n",
       "      <td>The dash lid appears it was dropped and a piec...</td>\n",
       "    </tr>\n",
       "    <tr>\n",
       "      <th>1478519</th>\n",
       "      <td>1478519</td>\n",
       "      <td>4 pairs women's wool boots socks</td>\n",
       "      <td>1</td>\n",
       "      <td>Women/Shoes/Boots</td>\n",
       "      <td>Unknown</td>\n",
       "      <td>0.0</td>\n",
       "      <td>1</td>\n",
       "      <td>✔️SHARE YOUR SOCKS WITH FRIENDS AND FAMILY! ✔️...</td>\n",
       "    </tr>\n",
       "    <tr>\n",
       "      <th>1478813</th>\n",
       "      <td>1478813</td>\n",
       "      <td>New Braven HD Waterprf Wireless</td>\n",
       "      <td>1</td>\n",
       "      <td>Electronics/TV, Audio &amp; Surveillance/Home Spea...</td>\n",
       "      <td>Unknown</td>\n",
       "      <td>0.0</td>\n",
       "      <td>0</td>\n",
       "      <td>The BRV-1 gives action sports and outdoor enth...</td>\n",
       "    </tr>\n",
       "  </tbody>\n",
       "</table>\n",
       "<p>874 rows × 8 columns</p>\n",
       "</div>"
      ],
      "text/plain": [
       "         train_id                                      name  \\\n",
       "1325         1325      Alabama Crimson Tide Quality Lanyard   \n",
       "2544         2544                             Levi leggings   \n",
       "2712         2712              Simple Red Lace Lingerie Top   \n",
       "3576         3576          Turquoise 15 Pc Makeup Brush Set   \n",
       "3761         3761                            Girls size 7/8   \n",
       "5237         5237                               Nursing Bra   \n",
       "6175         6175     Multi Listing Bundled Package, Thanks   \n",
       "7116         7116      Nike Dri-Fit High Power Speed Tights   \n",
       "7622         7622                       Hands free earpiece   \n",
       "10812       10812                        Vampire candy bowl   \n",
       "12738       12738     Beautiful Janie and Jack loafers sz 4   \n",
       "17617       17617                   Coca Cola Stuffed Bears   \n",
       "17831       17831                    Holographic sequin bra   \n",
       "18324       18324          Pura 11 oz straw cup, swirl pink   \n",
       "19909       19909                  Obey Floral Snapback Hat   \n",
       "20986       20986       Sale! Varied sizes - Rock N' Roll t   \n",
       "22876       22876      Quay Australia Sunnies - Barely Worn   \n",
       "24288       24288      Fred Jackson Autographed Mini Helmet   \n",
       "28091       28091                  Jordan Cris Shoes Size 2   \n",
       "28701       28701                Lace Up Bodysuit * On Hold   \n",
       "29240       29240                   Baby K'Tan Wrap Carrier   \n",
       "29702       29702   Old Navy White Polka Dot Shorts Size 16   \n",
       "29826       29826  Geo Mountains/ Triangles Pillow Set Of 2   \n",
       "33056       33056  Viking compass leathercoinpurse guidance   \n",
       "33176       33176                       Bushnell Golf Watch   \n",
       "33624       33624            Michael Kors Medium Selma Dune   \n",
       "33862       33862                       Sexy cocktail dress   \n",
       "35216       35216                                    VS Bra   \n",
       "38132       38132         Vlone T-shirt Palace Bape Supreme   \n",
       "39519       39519         Jordan shoe's Girls size 12c,used   \n",
       "...           ...                                       ...   \n",
       "1430798   1430798                      Two Tone Leather Bag   \n",
       "1432284   1432284                                  Mk Purse   \n",
       "1440173   1440173    Brand new Kanye West Life of Pablo Hat   \n",
       "1440325   1440325  Galaxy Tab A 8.0 Case/ Windshield Cleane   \n",
       "1442657   1442657            Lularoe Disney TC LEGGINGS NWT   \n",
       "1445675   1445675  14g Clear on Gold Sml Prong Nipple Rings   \n",
       "1446187   1446187    Handcrafted Jadeite Frogs and Crystals   \n",
       "1449089   1449089                     REVLON 16hr Colorstay   \n",
       "1449359   1449359      PORCELAIN L.A. Girl HD Pro Concealer   \n",
       "1449450   1449450            VS Pink Push Up Bralette Large   \n",
       "1452401   1452401             american eagle stripped shirt   \n",
       "1456460   1456460                   New Frozen Shoes size 6   \n",
       "1458474   1458474                Victoria's Secret PINK bra   \n",
       "1460118   1460118       Flowy tank top plus size blouse 2xl   \n",
       "1461712   1461712                               Nike Airmax   \n",
       "1462168   1462168   Too Faced Born This Way Foundation Sand   \n",
       "1463021   1463021                             faux fur coat   \n",
       "1463174   1463174               Marc Jacobs wristlet/Wallet   \n",
       "1463577   1463577                       Soft striped pijama   \n",
       "1464583   1464583                Ardell Lashes Demi Wispies   \n",
       "1465545   1465545                   Infant Timberland Boots   \n",
       "1467318   1467318  Certified Vegan Card Case New! Blue/Gray   \n",
       "1467698   1467698         Rock Revivals Men's Size 29 Jeans   \n",
       "1469806   1469806                      Hp 11x Ink cartridge   \n",
       "1471721   1471721          Waist Trainer Corset Size S Only   \n",
       "1474172   1474172            Homecoming or Dama ivory dress   \n",
       "1474198   1474198                        Tie up flannel top   \n",
       "1477958   1477958                   Rae Dunn Measuring Pear   \n",
       "1478519   1478519          4 pairs women's wool boots socks   \n",
       "1478813   1478813           New Braven HD Waterprf Wireless   \n",
       "\n",
       "         item_condition_id                                      category_name  \\\n",
       "1325                     1                    Sports & Outdoors/Fan Shop/NCAA   \n",
       "2544                     3                           Women/Jeans/Slim, Skinny   \n",
       "2712                     3                 Women/Underwear/G-Strings & Thongs   \n",
       "3576                     1  Beauty/Tools & Accessories/Makeup Brushes & Tools   \n",
       "3761                     3                    Kids/Girls (4+)/Tops & T-Shirts   \n",
       "5237                     3                               Women/Underwear/Bras   \n",
       "6175                     2                              Electronics/Media/DVD   \n",
       "7116                     1     Women/Athletic Apparel/Pants, Tights, Leggings   \n",
       "7622                     1     Electronics/Cell Phones & Accessories/Headsets   \n",
       "10812                    1                      Home/Seasonal Décor/Halloween   \n",
       "12738                    2                              Kids/Boys 2T-5T/Shoes   \n",
       "17617                    3                  Kids/Toys/Stuffed Animals & Plush   \n",
       "17831                    3                               Women/Underwear/Bras   \n",
       "18324                    1                                              Other   \n",
       "19909                    2                         Men/Men's Accessories/Hats   \n",
       "20986                    1                      Women/Tops & Blouses/T-Shirts   \n",
       "22876                    2               Women/Women's Accessories/Sunglasses   \n",
       "24288                    2                     Sports & Outdoors/Fan Shop/NFL   \n",
       "28091                    1                           Kids/Boys 0-24 Mos/Shoes   \n",
       "28701                    2                                              Other   \n",
       "29240                    3                     Kids/Gear/Backpacks & Carriers   \n",
       "29702                    2                      Women/Athletic Apparel/Shorts   \n",
       "29826                    1                 Home/Home Décor/Decorative Pillows   \n",
       "33056                    1                     Handmade/Bags and Purses/Pouch   \n",
       "33176                    2                Sports & Outdoors/Golf/Golf Apparel   \n",
       "33624                    1                     Women/Women's Handbags/Satchel   \n",
       "33862                    2                     Women/Dresses/Above Knee, Mini   \n",
       "35216                    2                               Women/Underwear/Bras   \n",
       "38132                    2                                  Men/Tops/T-shirts   \n",
       "39519                    3                             Kids/Girls 2T-5T/Shoes   \n",
       "...                    ...                                                ...   \n",
       "1430798                  1       Women/Women's Handbags/Messenger & Crossbody   \n",
       "1432284                  4                Women/Women's Handbags/Shoulder Bag   \n",
       "1440173                  2                     Women/Women's Accessories/Hats   \n",
       "1440325                  1  Electronics/Computers & Tablets/iPad/Tablet/eB...   \n",
       "1442657                  1     Women/Athletic Apparel/Pants, Tights, Leggings   \n",
       "1445675                  1                                              Other   \n",
       "1446187                  2                            Women/Jewelry/Bracelets   \n",
       "1449089                  1                                              Other   \n",
       "1449359                  1                                 Beauty/Makeup/Face   \n",
       "1449450                  1                 Women/Athletic Apparel/Sports Bras   \n",
       "1452401                  2                      Women/Tops & Blouses/T-Shirts   \n",
       "1456460                  1                          Kids/Girls 0-24 Mos/Shoes   \n",
       "1458474                  2                               Women/Underwear/Bras   \n",
       "1460118                  3                    Women/Tops & Blouses/Tank, Cami   \n",
       "1461712                  2                       Women/Shoes/Fashion Sneakers   \n",
       "1462168                  2                                 Beauty/Makeup/Face   \n",
       "1463021                  3                Women/Coats & Jackets/Fleece Jacket   \n",
       "1463174                  3                  Women/Women's Accessories/Wallets   \n",
       "1463577                  2                      Kids/Boys 0-24 Mos/One-Pieces   \n",
       "1464583                  2                                 Beauty/Makeup/Eyes   \n",
       "1465545                  1                           Kids/Boys 0-24 Mos/Shoes   \n",
       "1467318                  1                  Women/Women's Accessories/Wallets   \n",
       "1467698                  3                    Men/Jeans/Classic, Straight Leg   \n",
       "1469806                  1                  Other/Office supplies/Ink & Toner   \n",
       "1471721                  1     Sports & Outdoors/Exercise/Fitness accessories   \n",
       "1474172                  2                     Women/Dresses/Above Knee, Mini   \n",
       "1474198                  3                        Women/Tops & Blouses/Blouse   \n",
       "1477958                  3                 Home/Home Décor/Home Décor Accents   \n",
       "1478519                  1                                  Women/Shoes/Boots   \n",
       "1478813                  1  Electronics/TV, Audio & Surveillance/Home Spea...   \n",
       "\n",
       "                   brand_name  price  shipping  \\\n",
       "1325                  Unknown    0.0         1   \n",
       "2544                  Levi's®    0.0         0   \n",
       "2712                  Unknown    0.0         0   \n",
       "3576                  Unknown    0.0         1   \n",
       "3761                  Unknown    0.0         1   \n",
       "5237     Motherhood Maternity    0.0         0   \n",
       "6175                  Unknown    0.0         1   \n",
       "7116                     Nike    0.0         1   \n",
       "7622                  Unknown    0.0         0   \n",
       "10812                 Unknown    0.0         0   \n",
       "12738          Janie and Jack    0.0         0   \n",
       "17617                 Unknown    0.0         0   \n",
       "17831                 Unknown    0.0         0   \n",
       "18324                 Unknown    0.0         1   \n",
       "19909                    Obey    0.0         0   \n",
       "20986                 Unknown    0.0         0   \n",
       "22876                 Unknown    0.0         0   \n",
       "24288                 Unknown    0.0         1   \n",
       "28091                    Nike    0.0         1   \n",
       "28701               Nordstrom    0.0         0   \n",
       "29240                     All    0.0         0   \n",
       "29702                Old Navy    0.0         0   \n",
       "29826                 Unknown    0.0         0   \n",
       "33056                 Unknown    0.0         1   \n",
       "33176                Bushnell    0.0         0   \n",
       "33624            Michael Kors    0.0         0   \n",
       "33862                 Unknown    0.0         1   \n",
       "35216       Victoria's Secret    0.0         0   \n",
       "38132                 Unknown    0.0         0   \n",
       "39519                    Nike    0.0         0   \n",
       "...                       ...    ...       ...   \n",
       "1430798                  ZARA    0.0         0   \n",
       "1432284          Michael Kors    0.0         0   \n",
       "1440173                 Yeezy    0.0         0   \n",
       "1440325               Samsung    0.0         1   \n",
       "1442657               LuLaRoe    0.0         0   \n",
       "1445675               Unknown    0.0         1   \n",
       "1446187               Unknown    0.0         0   \n",
       "1449089                Revlon    0.0         0   \n",
       "1449359               Unknown    0.0         1   \n",
       "1449450     Victoria's Secret    0.0         1   \n",
       "1452401        American Eagle    0.0         0   \n",
       "1456460                Disney    0.0         1   \n",
       "1458474                  PINK    0.0         0   \n",
       "1460118               Unknown    0.0         0   \n",
       "1461712                  Nike    0.0         0   \n",
       "1462168             Too Faced    0.0         1   \n",
       "1463021               Unknown    0.0         0   \n",
       "1463174   MARC BY MARC JACOBS    0.0         0   \n",
       "1463577              Carter's    0.0         0   \n",
       "1464583                Ardell    0.0         0   \n",
       "1465545               Unknown    0.0         0   \n",
       "1467318               Unknown    0.0         1   \n",
       "1467698          Rock Revival    0.0         0   \n",
       "1469806               Unknown    0.0         0   \n",
       "1471721               Unknown    0.0         1   \n",
       "1474172               Unknown    0.0         0   \n",
       "1474198               Unknown    0.0         1   \n",
       "1477958               Unknown    0.0         0   \n",
       "1478519               Unknown    0.0         1   \n",
       "1478813               Unknown    0.0         0   \n",
       "\n",
       "                                          item_description  \n",
       "1325     TOP QUALITY THICK LANYARD Reversible sides wit...  \n",
       "2544     Light wash. Hardly worn. Size 24 but fits like...  \n",
       "2712     Very simple but cute, a little form fitting as...  \n",
       "3576                                               1 left!  \n",
       "3761     5 pair gap jean excellent used condition 3 chi...  \n",
       "5237            Used a few times but was not able to nurse  \n",
       "6175     1)Large Collection of Full Length Strawberry S...  \n",
       "7116     Bought at Nike store in New York, Brand New, N...  \n",
       "7622     Wireless Bluetooth hands free used with Samsun...  \n",
       "10812                     New good condition for halloween  \n",
       "12738                                             Like New  \n",
       "17617    Coca Cola plush adorable bears to start your c...  \n",
       "17831                  Holographic Sequin bra 36B No brand  \n",
       "18324    100% plastic free straw bottle easily transiti...  \n",
       "19909    A friend sold me this hat although I don't wea...  \n",
       "20986    Really cute sleeveless tee! Perfect for that s...  \n",
       "22876    But directly from Quay Have worn 3 times Alway...  \n",
       "24288    Autographed by former Bills star running back ...  \n",
       "28091             Bought from another seller and too small  \n",
       "28701    From nordstroms. Literally worn once but was t...  \n",
       "29240    Super comfy infant carrier in color \"eggplant\"...  \n",
       "29702    Old Navy white with small black polka dots wov...  \n",
       "29826    Accent pillows liven up a room & give it insta...  \n",
       "33056    Leather coin purse hand made by me with viking...  \n",
       "33176    Mens Bushnell Golf watch NWOT If you are a gol...  \n",
       "33624    Brand new Dark dune color Willing to create bu...  \n",
       "33862    Very short comes with a thong. It was advertis...  \n",
       "35216                                        34DD hot pink  \n",
       "38132    Very rare vlone serpent t shirt Worn once!! Pr...  \n",
       "39519    This is a used pair of Jordan shoe's girls siz...  \n",
       "...                                                    ...  \n",
       "1430798       Lovely two toned 3 zipper pocket chain purse  \n",
       "1432284  It's a well loved purse it has color fading in...  \n",
       "1440173  Brand New Kanye West Los Angeles Hat. Bought f...  \n",
       "1440325  Super cute I-Blason armourbox kids brand new w...  \n",
       "1442657  My FAVORITE!! LOL, I have a pair and wearing t...  \n",
       "1445675  14g Clear on Gold Small Prong Nipple Rings Bar...  \n",
       "1446187  Handcrafted Green Jadeite Carved Good Luck Fro...  \n",
       "1449089  Colorstay overtime never used or tested 100% N...  \n",
       "1449359  FOR OTHER AND BUNDLES, PLEASE MESSAGE ME. L.A....  \n",
       "1449450                     New with tags Large fits 38A-C  \n",
       "1452401                                 No description yet  \n",
       "1456460  New with tags. Adorable Disney's frozen tennis...  \n",
       "1458474  Never worn zebra print perfect for summer supe...  \n",
       "1460118                                 No description yet  \n",
       "1461712  Rose gold Nike Airmax only worn twice kept in ...  \n",
       "1462168  Brand new! used once and just did not match my...  \n",
       "1463021  juniors large faux fur coat.. winter white in ...  \n",
       "1463174                                 No description yet  \n",
       "1463577                            No flaws just to small.  \n",
       "1464583  I've used one pair, but others are completely ...  \n",
       "1465545    Brand new infant Timberland Boots w/box. Size 3  \n",
       "1467318  New w/o tags Beautiful Blue Gray CERTIFIED VEG...  \n",
       "1467698             Men's size 29 Tay slim-straight jeans.  \n",
       "1469806                                        new in box.  \n",
       "1471721  Material. Natural rubber cotton neoprene ,3 ho...  \n",
       "1474172  Ivory formal dress. I wore this dress once for...  \n",
       "1474198  I got this last year and just didnt wear it mu...  \n",
       "1477958  The dash lid appears it was dropped and a piec...  \n",
       "1478519  ✔️SHARE YOUR SOCKS WITH FRIENDS AND FAMILY! ✔️...  \n",
       "1478813  The BRV-1 gives action sports and outdoor enth...  \n",
       "\n",
       "[874 rows x 8 columns]"
      ]
     },
     "execution_count": 15,
     "metadata": {},
     "output_type": "execute_result"
    }
   ],
   "source": [
    "train[train['price']==0]"
   ]
  },
  {
   "cell_type": "code",
   "execution_count": 16,
   "metadata": {},
   "outputs": [
    {
     "data": {
      "text/plain": [
       "(874, 8)"
      ]
     },
     "execution_count": 16,
     "metadata": {},
     "output_type": "execute_result"
    }
   ],
   "source": [
    "train[train['price']==0].shape"
   ]
  },
  {
   "cell_type": "markdown",
   "metadata": {},
   "source": [
    " We have 874 items with price of $0. Let's eliminate them as it is a error."
   ]
  },
  {
   "cell_type": "code",
   "execution_count": 17,
   "metadata": {},
   "outputs": [
    {
     "data": {
      "text/plain": [
       "(1481661, 8)"
      ]
     },
     "execution_count": 17,
     "metadata": {},
     "output_type": "execute_result"
    }
   ],
   "source": [
    "train = train[train['price']!=0]\n",
    "train.shape"
   ]
  },
  {
   "cell_type": "markdown",
   "metadata": {},
   "source": [
    "### Analyze distribution of shipping "
   ]
  },
  {
   "cell_type": "code",
   "execution_count": 18,
   "metadata": {},
   "outputs": [
    {
     "data": {
      "text/plain": [
       "0    0.552674\n",
       "1    0.447326\n",
       "Name: shipping, dtype: float64"
      ]
     },
     "execution_count": 18,
     "metadata": {},
     "output_type": "execute_result"
    }
   ],
   "source": [
    "train['shipping'].value_counts() / len(train)"
   ]
  },
  {
   "cell_type": "markdown",
   "metadata": {},
   "source": [
    "### Distribution of price based on shipping type"
   ]
  },
  {
   "cell_type": "code",
   "execution_count": 19,
   "metadata": {},
   "outputs": [
    {
     "data": {
      "image/png": "[encoded data removed]",
      "text/plain": [
       "<Figure size 1440x864 with 1 Axes>"
      ]
     },
     "metadata": {
      "needs_background": "light"
     },
     "output_type": "display_data"
    }
   ],
   "source": [
    "shipping_fee_by_buyer = train.loc[train['shipping']==0, 'price']\n",
    "shipping_fee_by_seller = train.loc[train['shipping']==1, 'price']\n",
    "\n",
    "fig, ax = plt.subplots(figsize= (20,12))\n",
    "\n",
    "ax.hist(shipping_fee_by_seller, color='green', alpha=1.0, bins=50, range=[0,100], label =' Price when shipping fee is paid by seller')\n",
    "ax.hist(shipping_fee_by_buyer, color ='red', alpha =0.7, bins=50, range=[0,100], label='Price when shipping fee is paid by buyer')\n",
    "\n",
    "plt.xlabel('Price', fontsize= 15)\n",
    "plt.ylabel('Frequency', fontsize=15)\n",
    "plt.title(\"Price Distribution based on shipping type\", fontsize =17)\n",
    "plt.tick_params(labelsize=15)\n",
    "plt.legend()\n",
    "plt.show()"
   ]
  },
  {
   "cell_type": "markdown",
   "metadata": {},
   "source": [
    "From the above visualization, we can conclude that price of the product is greater when seller pays shipping costs."
   ]
  },
  {
   "cell_type": "markdown",
   "metadata": {},
   "source": [
    "### Mean Price for Shipping Type"
   ]
  },
  {
   "cell_type": "code",
   "execution_count": 20,
   "metadata": {},
   "outputs": [
    {
     "name": "stdout",
     "output_type": "stream",
     "text": [
      "The mean price is $22.58 if seller pays shipping\n",
      "The mean price is $30.13 if buyer pays shipping\n"
     ]
    }
   ],
   "source": [
    "print('The mean price is ${}'.format(round(shipping_fee_by_seller.mean(), 2)), 'if seller pays shipping')\n",
    "print('The mean price is ${}'.format(round(shipping_fee_by_buyer.mean(), 2)), 'if buyer pays shipping')"
   ]
  },
  {
   "cell_type": "markdown",
   "metadata": {},
   "source": [
    "### Analyze the Top 10 categories"
   ]
  },
  {
   "cell_type": "code",
   "execution_count": 21,
   "metadata": {},
   "outputs": [
    {
     "data": {
      "text/html": [
       "<div>\n",
       "<style scoped>\n",
       "    .dataframe tbody tr th:only-of-type {\n",
       "        vertical-align: middle;\n",
       "    }\n",
       "\n",
       "    .dataframe tbody tr th {\n",
       "        vertical-align: top;\n",
       "    }\n",
       "\n",
       "    .dataframe thead th {\n",
       "        text-align: right;\n",
       "    }\n",
       "</style>\n",
       "<table border=\"1\" class=\"dataframe\">\n",
       "  <thead>\n",
       "    <tr style=\"text-align: right;\">\n",
       "      <th></th>\n",
       "      <th>index</th>\n",
       "      <th>category_name</th>\n",
       "    </tr>\n",
       "  </thead>\n",
       "  <tbody>\n",
       "    <tr>\n",
       "      <th>0</th>\n",
       "      <td>Women/Athletic Apparel/Pants, Tights, Leggings</td>\n",
       "      <td>60152</td>\n",
       "    </tr>\n",
       "    <tr>\n",
       "      <th>1</th>\n",
       "      <td>Women/Tops &amp; Blouses/T-Shirts</td>\n",
       "      <td>46349</td>\n",
       "    </tr>\n",
       "    <tr>\n",
       "      <th>2</th>\n",
       "      <td>Beauty/Makeup/Face</td>\n",
       "      <td>34320</td>\n",
       "    </tr>\n",
       "    <tr>\n",
       "      <th>3</th>\n",
       "      <td>Beauty/Makeup/Lips</td>\n",
       "      <td>29901</td>\n",
       "    </tr>\n",
       "    <tr>\n",
       "      <th>4</th>\n",
       "      <td>Electronics/Video Games &amp; Consoles/Games</td>\n",
       "      <td>26547</td>\n",
       "    </tr>\n",
       "    <tr>\n",
       "      <th>5</th>\n",
       "      <td>Beauty/Makeup/Eyes</td>\n",
       "      <td>25200</td>\n",
       "    </tr>\n",
       "    <tr>\n",
       "      <th>6</th>\n",
       "      <td>Electronics/Cell Phones &amp; Accessories/Cases, C...</td>\n",
       "      <td>24668</td>\n",
       "    </tr>\n",
       "    <tr>\n",
       "      <th>7</th>\n",
       "      <td>Women/Underwear/Bras</td>\n",
       "      <td>21254</td>\n",
       "    </tr>\n",
       "    <tr>\n",
       "      <th>8</th>\n",
       "      <td>Women/Tops &amp; Blouses/Tank, Cami</td>\n",
       "      <td>20270</td>\n",
       "    </tr>\n",
       "    <tr>\n",
       "      <th>9</th>\n",
       "      <td>Women/Tops &amp; Blouses/Blouse</td>\n",
       "      <td>20269</td>\n",
       "    </tr>\n",
       "  </tbody>\n",
       "</table>\n",
       "</div>"
      ],
      "text/plain": [
       "                                               index  category_name\n",
       "0     Women/Athletic Apparel/Pants, Tights, Leggings          60152\n",
       "1                      Women/Tops & Blouses/T-Shirts          46349\n",
       "2                                 Beauty/Makeup/Face          34320\n",
       "3                                 Beauty/Makeup/Lips          29901\n",
       "4           Electronics/Video Games & Consoles/Games          26547\n",
       "5                                 Beauty/Makeup/Eyes          25200\n",
       "6  Electronics/Cell Phones & Accessories/Cases, C...          24668\n",
       "7                               Women/Underwear/Bras          21254\n",
       "8                    Women/Tops & Blouses/Tank, Cami          20270\n",
       "9                        Women/Tops & Blouses/Blouse          20269"
      ]
     },
     "execution_count": 21,
     "metadata": {},
     "output_type": "execute_result"
    }
   ],
   "source": [
    "top_10_cat = train['category_name'].value_counts()[:10].reset_index()\n",
    "top_10_cat"
   ]
  },
  {
   "cell_type": "code",
   "execution_count": 22,
   "metadata": {},
   "outputs": [],
   "source": [
    "### Distribution of top 10 categories"
   ]
  },
  {
   "cell_type": "code",
   "execution_count": 23,
   "metadata": {},
   "outputs": [
    {
     "data": {
      "image/png": "[encoded data removed]",
      "text/plain": [
       "<Figure size 1440x1080 with 1 Axes>"
      ]
     },
     "metadata": {},
     "output_type": "display_data"
    }
   ],
   "source": [
    "top_10_cat = train['category_name'].value_counts()[:10].reset_index()\n",
    "sns.set(style='whitegrid')\n",
    "\n",
    "### Initializing the figure and setting the figure parameters\n",
    "f, ax = plt.subplots(figsize=(20,15))\n",
    "sns.set_color_codes(\"dark\")\n",
    "sns.barplot(x='category_name', y='index', data=top_10_cat, label=' No. of items', color='g')\n",
    "ax.set(ylabel= \"Item Category\", title = \"No. of item per category\", xlabel=\"No. of items\")\n",
    "plt.show()"
   ]
  },
  {
   "cell_type": "markdown",
   "metadata": {},
   "source": [
    "### Implementing Feature Engineering"
   ]
  },
  {
   "cell_type": "markdown",
   "metadata": {},
   "source": [
    "There's a format in the category feature of this training dataset i.e. **Root Category/Category/Subcategory**. Therefore, we will split the category and save each of them in a separate column."
   ]
  },
  {
   "cell_type": "code",
   "execution_count": 24,
   "metadata": {},
   "outputs": [],
   "source": [
    "### Creating new category features\n",
    "def convert_category_name(category_name):\n",
    "    try:\n",
    "        main, sub1, sub2 =category_name.split('/')\n",
    "        return main, sub1, sub2\n",
    "    except:\n",
    "        return 'Other', 'Other', 'Other'"
   ]
  },
  {
   "cell_type": "code",
   "execution_count": 25,
   "metadata": {},
   "outputs": [
    {
     "data": {
      "text/html": [
       "<div>\n",
       "<style scoped>\n",
       "    .dataframe tbody tr th:only-of-type {\n",
       "        vertical-align: middle;\n",
       "    }\n",
       "\n",
       "    .dataframe tbody tr th {\n",
       "        vertical-align: top;\n",
       "    }\n",
       "\n",
       "    .dataframe thead th {\n",
       "        text-align: right;\n",
       "    }\n",
       "</style>\n",
       "<table border=\"1\" class=\"dataframe\">\n",
       "  <thead>\n",
       "    <tr style=\"text-align: right;\">\n",
       "      <th></th>\n",
       "      <th>category_main</th>\n",
       "      <th>category_sub1</th>\n",
       "      <th>category_sub2</th>\n",
       "      <th>price</th>\n",
       "    </tr>\n",
       "  </thead>\n",
       "  <tbody>\n",
       "    <tr>\n",
       "      <th>0</th>\n",
       "      <td>Men</td>\n",
       "      <td>Tops</td>\n",
       "      <td>T-shirts</td>\n",
       "      <td>10.0</td>\n",
       "    </tr>\n",
       "    <tr>\n",
       "      <th>1</th>\n",
       "      <td>Electronics</td>\n",
       "      <td>Computers &amp; Tablets</td>\n",
       "      <td>Components &amp; Parts</td>\n",
       "      <td>52.0</td>\n",
       "    </tr>\n",
       "    <tr>\n",
       "      <th>2</th>\n",
       "      <td>Women</td>\n",
       "      <td>Tops &amp; Blouses</td>\n",
       "      <td>Blouse</td>\n",
       "      <td>10.0</td>\n",
       "    </tr>\n",
       "    <tr>\n",
       "      <th>3</th>\n",
       "      <td>Home</td>\n",
       "      <td>Home Décor</td>\n",
       "      <td>Home Décor Accents</td>\n",
       "      <td>35.0</td>\n",
       "    </tr>\n",
       "    <tr>\n",
       "      <th>4</th>\n",
       "      <td>Women</td>\n",
       "      <td>Jewelry</td>\n",
       "      <td>Necklaces</td>\n",
       "      <td>44.0</td>\n",
       "    </tr>\n",
       "  </tbody>\n",
       "</table>\n",
       "</div>"
      ],
      "text/plain": [
       "  category_main        category_sub1       category_sub2  price\n",
       "0           Men                 Tops            T-shirts   10.0\n",
       "1   Electronics  Computers & Tablets  Components & Parts   52.0\n",
       "2         Women       Tops & Blouses              Blouse   10.0\n",
       "3          Home           Home Décor  Home Décor Accents   35.0\n",
       "4         Women              Jewelry           Necklaces   44.0"
      ]
     },
     "execution_count": 25,
     "metadata": {},
     "output_type": "execute_result"
    }
   ],
   "source": [
    "train['category_main'], train['category_sub1'], train['category_sub2']= zip(*train['category_name'].apply(convert_category_name)) \n",
    "cat_train = train[['category_main', 'category_sub1', 'category_sub2','price']]\n",
    "cat_train.head()"
   ]
  },
  {
   "cell_type": "markdown",
   "metadata": {},
   "source": [
    "### Top 10 Main Categories"
   ]
  },
  {
   "cell_type": "code",
   "execution_count": 26,
   "metadata": {},
   "outputs": [
    {
     "data": {
      "image/png": "[encoded data removed]",
      "text/plain": [
       "<Figure size 1440x1080 with 1 Axes>"
      ]
     },
     "metadata": {},
     "output_type": "display_data"
    }
   ],
   "source": [
    "plt.figure(figsize=(20,15))\n",
    "sns.countplot(y = train['category_main'], order = train['category_main'].value_counts().index, orient = 'v')\n",
    "plt.title('Top 10 Main Categories', fontsize = 25)\n",
    "plt.ylabel('Main Category', fontsize = 20)\n",
    "plt.xlabel('Number of Items')\n",
    "plt.show()"
   ]
  },
  {
   "cell_type": "markdown",
   "metadata": {},
   "source": [
    "Majority of the items are women and beauty products . Its interesting because it allows us to know who the users are and the company can perform some sort of targeted marketing. "
   ]
  },
  {
   "cell_type": "markdown",
   "metadata": {},
   "source": [
    "### Ratio of Main Categories"
   ]
  },
  {
   "cell_type": "code",
   "execution_count": 27,
   "metadata": {},
   "outputs": [
    {
     "data": {
      "text/plain": [
       "Women                     0.448139\n",
       "Beauty                    0.140197\n",
       "Kids                      0.115786\n",
       "Electronics               0.080705\n",
       "Men                       0.062964\n",
       "Home                      0.045780\n",
       "Other                     0.037814\n",
       "Vintage & Collectibles    0.031397\n",
       "Handmade                  0.020810\n",
       "Sports & Outdoors         0.016408\n",
       "Name: category_main, dtype: float64"
      ]
     },
     "execution_count": 27,
     "metadata": {},
     "output_type": "execute_result"
    }
   ],
   "source": [
    "train['category_main'].value_counts()/len(train)"
   ]
  },
  {
   "cell_type": "markdown",
   "metadata": {},
   "source": [
    "### Analyzing Brands"
   ]
  },
  {
   "cell_type": "code",
   "execution_count": 29,
   "metadata": {},
   "outputs": [
    {
     "data": {
      "image/png": "[encoded data removed]",
      "text/plain": [
       "<Figure size 432x288 with 1 Axes>"
      ]
     },
     "metadata": {},
     "output_type": "display_data"
    }
   ],
   "source": [
    "# Top 20 Brands\n",
    "top_20_brands = train['brand_name'].value_counts()[1:20].reset_index().rename(columns={'index': 'brand_name', 'brand_name':'count'})\n",
    "ax = sns.barplot(x=\"brand_name\", y=\"count\", data=top_20_brands)\n",
    "ax.set_xticklabels(ax.get_xticklabels(),rotation=90)\n",
    "ax.set_title('Top 20 Brand Distribution', fontsize=15)\n",
    "plt.show()"
   ]
  },
  {
   "cell_type": "markdown",
   "metadata": {},
   "source": [
    "### Top 20 Expensive Brands"
   ]
  },
  {
   "cell_type": "code",
   "execution_count": 30,
   "metadata": {},
   "outputs": [
    {
     "data": {
      "image/png": "[encoded data removed]",
      "text/plain": [
       "<Figure size 432x288 with 1 Axes>"
      ]
     },
     "metadata": {},
     "output_type": "display_data"
    }
   ],
   "source": [
    "top_20_exp_brand = pd.DataFrame(train.groupby(['brand_name'],as_index=True).std().price.sort_values(ascending=False)[0:20]).reset_index()\n",
    "ax = sns.barplot(x=\"brand_name\", y=\"price\", data=top_20_exp_brand)\n",
    "ax.set_xticklabels(ax.get_xticklabels(),rotation=90)\n",
    "ax.set_title('Distribution of Top 20 Expensive Brands', fontsize=15)\n",
    "plt.show()"
   ]
  },
  {
   "cell_type": "markdown",
   "metadata": {},
   "source": [
    "### Analyzing relation between Length of Description and Price"
   ]
  },
  {
   "cell_type": "code",
   "execution_count": 31,
   "metadata": {},
   "outputs": [
    {
     "name": "stderr",
     "output_type": "stream",
     "text": [
      "C:\\Users\\Ojas\\Anaconda3\\lib\\site-packages\\ipykernel_launcher.py:3: SettingWithCopyWarning: \n",
      "A value is trying to be set on a copy of a slice from a DataFrame.\n",
      "Try using .loc[row_indexer,col_indexer] = value instead\n",
      "\n",
      "See the caveats in the documentation: http://pandas.pydata.org/pandas-docs/stable/indexing.html#indexing-view-versus-copy\n",
      "  This is separate from the ipykernel package so we can avoid doing imports until\n"
     ]
    },
    {
     "data": {
      "text/html": [
       "<div>\n",
       "<style scoped>\n",
       "    .dataframe tbody tr th:only-of-type {\n",
       "        vertical-align: middle;\n",
       "    }\n",
       "\n",
       "    .dataframe tbody tr th {\n",
       "        vertical-align: top;\n",
       "    }\n",
       "\n",
       "    .dataframe thead th {\n",
       "        text-align: right;\n",
       "    }\n",
       "</style>\n",
       "<table border=\"1\" class=\"dataframe\">\n",
       "  <thead>\n",
       "    <tr style=\"text-align: right;\">\n",
       "      <th></th>\n",
       "      <th>name</th>\n",
       "      <th>item_description</th>\n",
       "      <th>price</th>\n",
       "      <th>count</th>\n",
       "    </tr>\n",
       "  </thead>\n",
       "  <tbody>\n",
       "    <tr>\n",
       "      <th>0</th>\n",
       "      <td>MLB Cincinnati Reds T Shirt Size XL</td>\n",
       "      <td>No description yet</td>\n",
       "      <td>10.0</td>\n",
       "      <td>18</td>\n",
       "    </tr>\n",
       "    <tr>\n",
       "      <th>1</th>\n",
       "      <td>Razer BlackWidow Chroma Keyboard</td>\n",
       "      <td>This keyboard is in great condition and works ...</td>\n",
       "      <td>52.0</td>\n",
       "      <td>188</td>\n",
       "    </tr>\n",
       "    <tr>\n",
       "      <th>2</th>\n",
       "      <td>AVA-VIV Blouse</td>\n",
       "      <td>Adorable top with a hint of lace and a key hol...</td>\n",
       "      <td>10.0</td>\n",
       "      <td>124</td>\n",
       "    </tr>\n",
       "    <tr>\n",
       "      <th>3</th>\n",
       "      <td>Leather Horse Statues</td>\n",
       "      <td>New with tags. Leather horses. Retail for [rm]...</td>\n",
       "      <td>35.0</td>\n",
       "      <td>173</td>\n",
       "    </tr>\n",
       "    <tr>\n",
       "      <th>4</th>\n",
       "      <td>24K GOLD plated rose</td>\n",
       "      <td>Complete with certificate of authenticity</td>\n",
       "      <td>44.0</td>\n",
       "      <td>41</td>\n",
       "    </tr>\n",
       "  </tbody>\n",
       "</table>\n",
       "</div>"
      ],
      "text/plain": [
       "                                  name  \\\n",
       "0  MLB Cincinnati Reds T Shirt Size XL   \n",
       "1     Razer BlackWidow Chroma Keyboard   \n",
       "2                       AVA-VIV Blouse   \n",
       "3                Leather Horse Statues   \n",
       "4                 24K GOLD plated rose   \n",
       "\n",
       "                                    item_description  price  count  \n",
       "0                                 No description yet   10.0     18  \n",
       "1  This keyboard is in great condition and works ...   52.0    188  \n",
       "2  Adorable top with a hint of lace and a key hol...   10.0    124  \n",
       "3  New with tags. Leather horses. Retail for [rm]...   35.0    173  \n",
       "4          Complete with certificate of authenticity   44.0     41  "
      ]
     },
     "execution_count": 31,
     "metadata": {},
     "output_type": "execute_result"
    }
   ],
   "source": [
    "train['item_description'] = train['item_description'].astype(str)\n",
    "des = train[['name','item_description', 'price']]\n",
    "des['count']= des['item_description'].apply(lambda x : len(str(x)))\n",
    "des.head()\n"
   ]
  },
  {
   "cell_type": "code",
   "execution_count": 32,
   "metadata": {},
   "outputs": [
    {
     "data": {
      "text/html": [
       "<div>\n",
       "<style scoped>\n",
       "    .dataframe tbody tr th:only-of-type {\n",
       "        vertical-align: middle;\n",
       "    }\n",
       "\n",
       "    .dataframe tbody tr th {\n",
       "        vertical-align: top;\n",
       "    }\n",
       "\n",
       "    .dataframe thead th {\n",
       "        text-align: right;\n",
       "    }\n",
       "</style>\n",
       "<table border=\"1\" class=\"dataframe\">\n",
       "  <thead>\n",
       "    <tr style=\"text-align: right;\">\n",
       "      <th></th>\n",
       "      <th>count</th>\n",
       "      <th>price</th>\n",
       "    </tr>\n",
       "  </thead>\n",
       "  <tbody>\n",
       "    <tr>\n",
       "      <th>0</th>\n",
       "      <td>1</td>\n",
       "      <td>19.542208</td>\n",
       "    </tr>\n",
       "    <tr>\n",
       "      <th>1</th>\n",
       "      <td>2</td>\n",
       "      <td>23.031111</td>\n",
       "    </tr>\n",
       "    <tr>\n",
       "      <th>2</th>\n",
       "      <td>3</td>\n",
       "      <td>22.186764</td>\n",
       "    </tr>\n",
       "    <tr>\n",
       "      <th>3</th>\n",
       "      <td>4</td>\n",
       "      <td>23.974603</td>\n",
       "    </tr>\n",
       "    <tr>\n",
       "      <th>4</th>\n",
       "      <td>5</td>\n",
       "      <td>21.798916</td>\n",
       "    </tr>\n",
       "  </tbody>\n",
       "</table>\n",
       "</div>"
      ],
      "text/plain": [
       "   count      price\n",
       "0      1  19.542208\n",
       "1      2  23.031111\n",
       "2      3  22.186764\n",
       "3      4  23.974603\n",
       "4      5  21.798916"
      ]
     },
     "execution_count": 32,
     "metadata": {},
     "output_type": "execute_result"
    }
   ],
   "source": [
    "df = des.groupby('count')['price'].mean().reset_index()\n",
    "df.head()"
   ]
  },
  {
   "cell_type": "code",
   "execution_count": 33,
   "metadata": {},
   "outputs": [
    {
     "data": {
      "image/png": "[encoded data removed]",
      "text/plain": [
       "<Figure size 432x288 with 1 Axes>"
      ]
     },
     "metadata": {},
     "output_type": "display_data"
    }
   ],
   "source": [
    "sns.regplot(x=df['count'], y=df['price'])\n",
    "plt.xlabel(\"Word Count\")\n",
    "plt.show()"
   ]
  },
  {
   "cell_type": "markdown",
   "metadata": {},
   "source": [
    "## Text Processing"
   ]
  },
  {
   "cell_type": "markdown",
   "metadata": {},
   "source": [
    "We will perform the following techniques to normalize the text :\n",
    "<ul>\n",
    "<li>Eliminating Punctuations</li>\n",
    "<li>Removing Stop words</li>\n",
    "<li>Converting words to lowercase</li>\n",
    "<li>Stemming the words</li></ul>"
   ]
  },
  {
   "cell_type": "markdown",
   "metadata": {},
   "source": [
    "### List of Punctuations"
   ]
  },
  {
   "cell_type": "code",
   "execution_count": 34,
   "metadata": {},
   "outputs": [
    {
     "data": {
      "text/plain": [
       "'!\"#$%&\\'()*+,-./:;<=>?@[\\\\]^_`{|}~'"
      ]
     },
     "execution_count": 34,
     "metadata": {},
     "output_type": "execute_result"
    }
   ],
   "source": [
    "from string import punctuation\n",
    "punctuation"
   ]
  },
  {
   "cell_type": "code",
   "execution_count": 35,
   "metadata": {},
   "outputs": [
    {
     "name": "stdout",
     "output_type": "stream",
     "text": [
      "[('!', ''), ('\"', ''), ('#', ''), ('$', ''), ('%', ''), ('&', ''), (\"'\", ''), ('(', ''), (')', ''), ('*', ''), ('+', ''), (',', ''), ('-', ''), ('.', ''), ('/', ''), (':', ''), (';', ''), ('<', ''), ('=', ''), ('>', ''), ('?', ''), ('@', ''), ('[', ''), ('\\\\', ''), (']', ''), ('^', ''), ('_', ''), ('`', ''), ('{', ''), ('|', ''), ('}', ''), ('~', '')]\n"
     ]
    }
   ],
   "source": [
    "# Creating a list for replacing punctuations\n",
    "punc_symbols = []\n",
    "for symbol in punctuation:\n",
    "    punc_symbols.append((symbol,''))\n",
    "    \n",
    "print(punc_symbols)"
   ]
  },
  {
   "cell_type": "markdown",
   "metadata": {},
   "source": [
    "### List of Stop Words"
   ]
  },
  {
   "cell_type": "code",
   "execution_count": 36,
   "metadata": {},
   "outputs": [
    {
     "name": "stdout",
     "output_type": "stream",
     "text": [
      "['i', 'me', 'my', 'myself', 'we', 'our', 'ours', 'ourselves', 'you', \"you're\", \"you've\", \"you'll\", \"you'd\", 'your', 'yours', 'yourself', 'yourselves', 'he', 'him', 'his', 'himself', 'she', \"she's\", 'her', 'hers', 'herself', 'it', \"it's\", 'its', 'itself', 'they', 'them', 'their', 'theirs', 'themselves', 'what', 'which', 'who', 'whom', 'this', 'that', \"that'll\", 'these', 'those', 'am', 'is', 'are', 'was', 'were', 'be', 'been', 'being', 'have', 'has', 'had', 'having', 'do', 'does', 'did', 'doing', 'a', 'an', 'the', 'and', 'but', 'if', 'or', 'because', 'as', 'until', 'while', 'of', 'at', 'by', 'for', 'with', 'about', 'against', 'between', 'into', 'through', 'during', 'before', 'after', 'above', 'below', 'to', 'from', 'up', 'down', 'in', 'out', 'on', 'off', 'over', 'under', 'again', 'further', 'then', 'once', 'here', 'there', 'when', 'where', 'why', 'how', 'all', 'any', 'both', 'each', 'few', 'more', 'most', 'other', 'some', 'such', 'no', 'nor', 'not', 'only', 'own', 'same', 'so', 'than', 'too', 'very', 's', 't', 'can', 'will', 'just', 'don', \"don't\", 'should', \"should've\", 'now', 'd', 'll', 'm', 'o', 're', 've', 'y', 'ain', 'aren', \"aren't\", 'couldn', \"couldn't\", 'didn', \"didn't\", 'doesn', \"doesn't\", 'hadn', \"hadn't\", 'hasn', \"hasn't\", 'haven', \"haven't\", 'isn', \"isn't\", 'ma', 'mightn', \"mightn't\", 'mustn', \"mustn't\", 'needn', \"needn't\", 'shan', \"shan't\", 'shouldn', \"shouldn't\", 'wasn', \"wasn't\", 'weren', \"weren't\", 'won', \"won't\", 'wouldn', \"wouldn't\"]\n"
     ]
    }
   ],
   "source": [
    "# Observing list of stop words\n",
    "#import nltk\n",
    "#nltk.download('stopwords')\n",
    "from nltk.corpus import stopwords\n",
    "stop = stopwords.words('english')\n",
    "print(stop)"
   ]
  },
  {
   "cell_type": "markdown",
   "metadata": {},
   "source": [
    "### Functions for Normalizing words"
   ]
  },
  {
   "cell_type": "code",
   "execution_count": 37,
   "metadata": {},
   "outputs": [],
   "source": [
    "import string\n",
    "\n",
    "#Creating function for eliminating punctuations\n",
    "def remove_punc(sentence:str) -> str:\n",
    "    return sentence.translate(str.maketrans('','', string.punctuation))\n",
    "\n",
    "# Creating function for removing stop words\n",
    "def remove_stop_words(x):\n",
    "    x= ' '.join([i for i in x.lower().split(' ') if i not in stop])\n",
    "    return x\n",
    "\n",
    "# Creating function for converting words to lowercase\n",
    "def lowercase(x):\n",
    "    return x.lower()"
   ]
  },
  {
   "cell_type": "markdown",
   "metadata": {},
   "source": [
    "### Applying Normalizing Functions"
   ]
  },
  {
   "cell_type": "code",
   "execution_count": 38,
   "metadata": {},
   "outputs": [],
   "source": [
    "#Stemming words\n",
    "from nltk.stem.porter import PorterStemmer\n",
    "porter = PorterStemmer()\n",
    "train['item_description'] = train['item_description'].apply(porter.stem)\n",
    "train['item_description'] = train['item_description'].apply(remove_punc)\n",
    "train['item_description'] = train['item_description'].apply(remove_stop_words)\n",
    "train['item_description'] = train['item_description'].apply(lowercase)\n",
    "\n",
    "train['name'] = train['name'].apply(remove_punc)\n",
    "train['name'] = train['name'].apply(remove_stop_words)\n",
    "train['name'] = train['name'].apply(lowercase)"
   ]
  },
  {
   "cell_type": "markdown",
   "metadata": {},
   "source": [
    "## Text Feature Extraction"
   ]
  },
  {
   "cell_type": "markdown",
   "metadata": {},
   "source": [
    "<li><b>Feature Pre-Processing:</b> Sometimes we can't just fit a dataset into your model and expect good results. Each type of feature has their own way of preprocessing. Choice of preprocessing method also depends on the model we are trying to use.\n",
    "\n",
    "Since we're working with Text Features, we're going to do a lot of vectorization:\n",
    "\n",
    "<li><b>Tokenization:</b> Here, we split each text into words (bag of words model)</li>\n",
    "<li><b>Stemming:</b> Removing word inflections (getting the root word)\n",
    "<li><b>Vectorization:</b> reducing text into a vector with different types of frequencies for each word (Count Values or TF-IDF Values)</li>\n"
   ]
  },
  {
   "cell_type": "markdown",
   "metadata": {},
   "source": [
    "<b>Bag of Words:</b>\n",
    "When we vectorize these words, we're doing creating a feature for each word. Also known as, Bag of Words. We lose word ordering.</li>\n",
    "\n",
    "<li><b>Solution:</b> To preserve some ordering, we can introduce n-grams into our vectorization of words (problem: too many features)\n",
    "one way to reduce dimensions of n-grams is to remove stop words (a, the, is)</li>\n",
    "<ul><li><b>Stop words:</b> We can remove these words becaues they are just there for grammatical structure with little to no meaning.</li>\n",
    "    <li><b>N-gram:</b> with smaller frequencies can highlight and capture important parts of a document/text. This helps  to preserve local ordering and can improve model performance.</li>"
   ]
  },
  {
   "cell_type": "code",
   "execution_count": 39,
   "metadata": {},
   "outputs": [
    {
     "data": {
      "text/plain": [
       "115                never worn brown leather strap wedges\n",
       "116                  boys lebron soldier 9s great condit\n",
       "117                                      description yet\n",
       "118    bombshell  eau sexy bombshell used bit lots pr...\n",
       "119    victorias secret pink black zip hoodie gently ...\n",
       "120    sweater like long sleeved shirt glows dark pur...\n",
       "121    tens 3000 back pain would great new without bo...\n",
       "122         sizes info clothes found individual postings\n",
       "123    white xl dress built bra strapless ties around...\n",
       "124    miss style name skinny size 26 inseam 32 miss ...\n",
       "Name: item_description, dtype: object"
      ]
     },
     "execution_count": 39,
     "metadata": {},
     "output_type": "execute_result"
    }
   ],
   "source": [
    "# Observing the normalized ite description feature\n",
    "train['item_description'][115:125]"
   ]
  },
  {
   "cell_type": "code",
   "execution_count": 40,
   "metadata": {},
   "outputs": [
    {
     "name": "stdout",
     "output_type": "stream",
     "text": [
      "['sweater', 'like', 'long', 'sleeved', 'shirt', 'glows', 'dark', 'purchased', 'another', 'seller', 'didnt', 'fit', 'says', 'size', 'would', 'put']\n"
     ]
    }
   ],
   "source": [
    "#nltk.download('punkt')\n",
    "from nltk.tokenize import word_tokenize\n",
    "text = train['item_description'][120]\n",
    "tokens = word_tokenize(text)\n",
    "print(tokens)"
   ]
  },
  {
   "cell_type": "markdown",
   "metadata": {},
   "source": [
    "### Word Frequency Weights\n",
    "Each word in our feature space can have different frequency weights\n",
    "<ul>\n",
    "    <li>Frequency Weight</li>\n",
    "    <li>TF-IDF Weight</li>\n",
    "    <li>Binary</li></ul>\n",
    "    \n",
    "<b>CountVectorizer:</b> Returns an encoded vector with integer count for each word.\n",
    "\n",
    "<b>TF-IDF(min_df, max_df, n-gram):</b> Returns encoded vector with weighted count for each word (utilizes the word in the document in corresponsdence to the whole corpus, to keep it short, more emphasis on the rarity of a word). This is good because we want to find frequent terms from that document that isn't so frequent within the whole document corpus.\n",
    "\n",
    "<b>LabelBinarizer:</b> Get's all the word and assigns it to its own column. 0 means it's there and 1 means not (example with brand names)\n",
    "\n",
    "<b>Why are we doing this again?:</b> Because some Machine Learning models don't recognize text as well. You're going to have to convert it into numbers"
   ]
  },
  {
   "cell_type": "code",
   "execution_count": 41,
   "metadata": {},
   "outputs": [
    {
     "data": {
      "text/html": [
       "<div>\n",
       "<style scoped>\n",
       "    .dataframe tbody tr th:only-of-type {\n",
       "        vertical-align: middle;\n",
       "    }\n",
       "\n",
       "    .dataframe tbody tr th {\n",
       "        vertical-align: top;\n",
       "    }\n",
       "\n",
       "    .dataframe thead th {\n",
       "        text-align: right;\n",
       "    }\n",
       "</style>\n",
       "<table border=\"1\" class=\"dataframe\">\n",
       "  <thead>\n",
       "    <tr style=\"text-align: right;\">\n",
       "      <th></th>\n",
       "      <th>train_id</th>\n",
       "      <th>name</th>\n",
       "      <th>item_condition_id</th>\n",
       "      <th>category_name</th>\n",
       "      <th>brand_name</th>\n",
       "      <th>price</th>\n",
       "      <th>shipping</th>\n",
       "      <th>item_description</th>\n",
       "      <th>category_main</th>\n",
       "      <th>category_sub1</th>\n",
       "      <th>category_sub2</th>\n",
       "    </tr>\n",
       "  </thead>\n",
       "  <tbody>\n",
       "    <tr>\n",
       "      <th>0</th>\n",
       "      <td>0</td>\n",
       "      <td>mlb cincinnati reds shirt size xl</td>\n",
       "      <td>3</td>\n",
       "      <td>Men/Tops/T-shirts</td>\n",
       "      <td>Unknown</td>\n",
       "      <td>10.0</td>\n",
       "      <td>1</td>\n",
       "      <td>description yet</td>\n",
       "      <td>Men</td>\n",
       "      <td>Tops</td>\n",
       "      <td>T-shirts</td>\n",
       "    </tr>\n",
       "    <tr>\n",
       "      <th>1</th>\n",
       "      <td>1</td>\n",
       "      <td>razer blackwidow chroma keyboard</td>\n",
       "      <td>3</td>\n",
       "      <td>Electronics/Computers &amp; Tablets/Components &amp; P...</td>\n",
       "      <td>Razer</td>\n",
       "      <td>52.0</td>\n",
       "      <td>0</td>\n",
       "      <td>keyboard great condition works like came box p...</td>\n",
       "      <td>Electronics</td>\n",
       "      <td>Computers &amp; Tablets</td>\n",
       "      <td>Components &amp; Parts</td>\n",
       "    </tr>\n",
       "    <tr>\n",
       "      <th>2</th>\n",
       "      <td>2</td>\n",
       "      <td>avaviv blouse</td>\n",
       "      <td>1</td>\n",
       "      <td>Women/Tops &amp; Blouses/Blouse</td>\n",
       "      <td>Target</td>\n",
       "      <td>10.0</td>\n",
       "      <td>1</td>\n",
       "      <td>adorable top hint lace key hole back pale pink...</td>\n",
       "      <td>Women</td>\n",
       "      <td>Tops &amp; Blouses</td>\n",
       "      <td>Blouse</td>\n",
       "    </tr>\n",
       "    <tr>\n",
       "      <th>3</th>\n",
       "      <td>3</td>\n",
       "      <td>leather horse statues</td>\n",
       "      <td>1</td>\n",
       "      <td>Home/Home Décor/Home Décor Accents</td>\n",
       "      <td>Unknown</td>\n",
       "      <td>35.0</td>\n",
       "      <td>1</td>\n",
       "      <td>new tags leather horses retail rm stand foot h...</td>\n",
       "      <td>Home</td>\n",
       "      <td>Home Décor</td>\n",
       "      <td>Home Décor Accents</td>\n",
       "    </tr>\n",
       "    <tr>\n",
       "      <th>4</th>\n",
       "      <td>4</td>\n",
       "      <td>24k gold plated rose</td>\n",
       "      <td>1</td>\n",
       "      <td>Women/Jewelry/Necklaces</td>\n",
       "      <td>Unknown</td>\n",
       "      <td>44.0</td>\n",
       "      <td>0</td>\n",
       "      <td>complete certificate authent</td>\n",
       "      <td>Women</td>\n",
       "      <td>Jewelry</td>\n",
       "      <td>Necklaces</td>\n",
       "    </tr>\n",
       "  </tbody>\n",
       "</table>\n",
       "</div>"
      ],
      "text/plain": [
       "   train_id                               name  item_condition_id  \\\n",
       "0         0  mlb cincinnati reds shirt size xl                  3   \n",
       "1         1   razer blackwidow chroma keyboard                  3   \n",
       "2         2                      avaviv blouse                  1   \n",
       "3         3              leather horse statues                  1   \n",
       "4         4               24k gold plated rose                  1   \n",
       "\n",
       "                                       category_name brand_name  price  \\\n",
       "0                                  Men/Tops/T-shirts    Unknown   10.0   \n",
       "1  Electronics/Computers & Tablets/Components & P...      Razer   52.0   \n",
       "2                        Women/Tops & Blouses/Blouse     Target   10.0   \n",
       "3                 Home/Home Décor/Home Décor Accents    Unknown   35.0   \n",
       "4                            Women/Jewelry/Necklaces    Unknown   44.0   \n",
       "\n",
       "   shipping                                   item_description category_main  \\\n",
       "0         1                                    description yet           Men   \n",
       "1         0  keyboard great condition works like came box p...   Electronics   \n",
       "2         1  adorable top hint lace key hole back pale pink...         Women   \n",
       "3         1  new tags leather horses retail rm stand foot h...          Home   \n",
       "4         0                       complete certificate authent         Women   \n",
       "\n",
       "         category_sub1       category_sub2  \n",
       "0                 Tops            T-shirts  \n",
       "1  Computers & Tablets  Components & Parts  \n",
       "2       Tops & Blouses              Blouse  \n",
       "3           Home Décor  Home Décor Accents  \n",
       "4              Jewelry           Necklaces  "
      ]
     },
     "execution_count": 41,
     "metadata": {},
     "output_type": "execute_result"
    }
   ],
   "source": [
    "# Observing features\n",
    "train.head()"
   ]
  },
  {
   "cell_type": "markdown",
   "metadata": {},
   "source": [
    "## Encoding Categorical Variables\n",
    "<ul>\n",
    "    <li>name</li>\n",
    " <li>brand_name</li>\n",
    " <li>category_main, category_sub1, category_sub2</li>\n",
    " <li>item_description</li>\n",
    " <li>shipping</li>\n",
    " <li>item_condition_id</li></ul>"
   ]
  },
  {
   "cell_type": "markdown",
   "metadata": {},
   "source": [
    "### Count Vectorizer"
   ]
  },
  {
   "cell_type": "code",
   "execution_count": 42,
   "metadata": {},
   "outputs": [],
   "source": [
    "cv= CountVectorizer(min_df=10)\n",
    "x_name = cv.fit_transform(train['name'])\n",
    "x_cat_main = cv.fit_transform(train['category_main'])\n",
    "x_cat_sub1 = cv.fit_transform(train['category_sub1'])\n",
    "x_cat_sub2 = cv.fit_transform(train['category_sub2'])"
   ]
  },
  {
   "cell_type": "code",
   "execution_count": 43,
   "metadata": {},
   "outputs": [
    {
     "name": "stdout",
     "output_type": "stream",
     "text": [
      "Shape of Item Name: (1481661, 18310)\n",
      "Shape of Category Main:(1481661, 12)\n",
      "Shape of Category Sub1:(1481661, 141)\n",
      "Shape of Category Sub2:(1481661, 805)\n"
     ]
    }
   ],
   "source": [
    "print(\"Shape of Item Name: \"+ str(x_name.shape))\n",
    "print(\"Shape of Category Main:\" + str(x_cat_main.shape))\n",
    "print(\"Shape of Category Sub1:\" + str(x_cat_sub1.shape))\n",
    "print(\"Shape of Category Sub2:\" + str(x_cat_sub2.shape))"
   ]
  },
  {
   "cell_type": "markdown",
   "metadata": {},
   "source": [
    "### Label Binarizer"
   ]
  },
  {
   "cell_type": "code",
   "execution_count": 44,
   "metadata": {},
   "outputs": [
    {
     "name": "stdout",
     "output_type": "stream",
     "text": [
      "Shape of Brand Name: (1481661, 4808)\n"
     ]
    }
   ],
   "source": [
    "# Applying Label Binarizer to \"brand_name\" feature\n",
    "lab= LabelBinarizer(sparse_output=True)\n",
    "x_brand = lab.fit_transform(train['brand_name'])\n",
    "print(\"Shape of Brand Name: \"+ str(x_brand.shape))"
   ]
  },
  {
   "cell_type": "markdown",
   "metadata": {},
   "source": [
    "### Get Dummies"
   ]
  },
  {
   "cell_type": "code",
   "execution_count": 45,
   "metadata": {},
   "outputs": [],
   "source": [
    "# Applying get_dummies to \"item_condition_id\" and \"shipping\" and then converting it into a CSR Matrix\n",
    "x_dummies = csr_matrix(pd.get_dummies(train[['item_condition_id', 'shipping']], sparse =True).values)"
   ]
  },
  {
   "cell_type": "markdown",
   "metadata": {},
   "source": [
    "## TF-IDF\n",
    "\n",
    "<b>Goal:</b> Measure hwo important a word or phrase is within a collection of documents. It essentially weigh down terms that appear frequently and scale up unique terms.\n",
    "\n",
    "<b>TF Term Frequency: </b> How often a term occurs\n",
    "\n",
    "<b>IDF Inverse Document Frequency:</b> how important a term is\n",
    "\n",
    "<b>Important Parameters</b>\n",
    "<ol>\n",
    "    <li>ngram_range</li>\n",
    "<li>stop_words</li>\n",
    "<li>lowercase</li>\n",
    "<li>max_df - max threshold that will ignore a term that has a document frequency higher than the threshold</li>\n",
    "<li>min_df - min threshold that will ignore a term that has a document frequency lower than the threshold</li>\n",
    "<li>max_features - gets the assigned amount of features with highest amount of term frequencies (scores)</li></ol>\n"
   ]
  },
  {
   "cell_type": "code",
   "execution_count": 46,
   "metadata": {},
   "outputs": [],
   "source": [
    "# Perform a TFIDF Transformation of the item description with the top 55000 features and has an n-gram range of 1-2\n",
    "tf = TfidfVectorizer(max_features = 55000, ngram_range=(1,2), stop_words ='english')\n",
    "x_description= tf.fit_transform(train['item_description'])"
   ]
  },
  {
   "cell_type": "code",
   "execution_count": 47,
   "metadata": {},
   "outputs": [
    {
     "name": "stdout",
     "output_type": "stream",
     "text": [
      "Shape of Item Description: (1481661, 55000)\n"
     ]
    }
   ],
   "source": [
    "print(\"Shape of Item Description: \" + str(x_description.shape))"
   ]
  },
  {
   "cell_type": "markdown",
   "metadata": {},
   "source": [
    "### Observing TF-IDF Weights"
   ]
  },
  {
   "cell_type": "code",
   "execution_count": 48,
   "metadata": {},
   "outputs": [],
   "source": [
    "# Creating a dictionary which will map the tokens to their tf-idf values\n",
    "tfidf= dict(zip(tf.get_feature_names(), tf.idf_))\n",
    "tfidf = pd.DataFrame(columns=['tfidf']).from_dict(dict(tfidf),orient= 'index')\n",
    "tfidf.columns = ['tfidif']\n"
   ]
  },
  {
   "cell_type": "code",
   "execution_count": 49,
   "metadata": {},
   "outputs": [
    {
     "data": {
      "text/html": [
       "<div>\n",
       "<style scoped>\n",
       "    .dataframe tbody tr th:only-of-type {\n",
       "        vertical-align: middle;\n",
       "    }\n",
       "\n",
       "    .dataframe tbody tr th {\n",
       "        vertical-align: top;\n",
       "    }\n",
       "\n",
       "    .dataframe thead th {\n",
       "        text-align: right;\n",
       "    }\n",
       "</style>\n",
       "<table border=\"1\" class=\"dataframe\">\n",
       "  <thead>\n",
       "    <tr style=\"text-align: right;\">\n",
       "      <th></th>\n",
       "      <th>tfidif</th>\n",
       "    </tr>\n",
       "  </thead>\n",
       "  <tbody>\n",
       "    <tr>\n",
       "      <th>new</th>\n",
       "      <td>2.187014</td>\n",
       "    </tr>\n",
       "    <tr>\n",
       "      <th>size</th>\n",
       "      <td>2.347269</td>\n",
       "    </tr>\n",
       "    <tr>\n",
       "      <th>brand</th>\n",
       "      <td>2.758962</td>\n",
       "    </tr>\n",
       "    <tr>\n",
       "      <th>brand new</th>\n",
       "      <td>2.883607</td>\n",
       "    </tr>\n",
       "    <tr>\n",
       "      <th>condition</th>\n",
       "      <td>2.925553</td>\n",
       "    </tr>\n",
       "    <tr>\n",
       "      <th>free</th>\n",
       "      <td>2.930798</td>\n",
       "    </tr>\n",
       "    <tr>\n",
       "      <th>worn</th>\n",
       "      <td>3.111408</td>\n",
       "    </tr>\n",
       "    <tr>\n",
       "      <th>used</th>\n",
       "      <td>3.220149</td>\n",
       "    </tr>\n",
       "    <tr>\n",
       "      <th>shipping</th>\n",
       "      <td>3.225996</td>\n",
       "    </tr>\n",
       "    <tr>\n",
       "      <th>great</th>\n",
       "      <td>3.347702</td>\n",
       "    </tr>\n",
       "  </tbody>\n",
       "</table>\n",
       "</div>"
      ],
      "text/plain": [
       "             tfidif\n",
       "new        2.187014\n",
       "size       2.347269\n",
       "brand      2.758962\n",
       "brand new  2.883607\n",
       "condition  2.925553\n",
       "free       2.930798\n",
       "worn       3.111408\n",
       "used       3.220149\n",
       "shipping   3.225996\n",
       "great      3.347702"
      ]
     },
     "execution_count": 49,
     "metadata": {},
     "output_type": "execute_result"
    }
   ],
   "source": [
    "#Lowest TFIDF scores\n",
    "tfidf.sort_values(by=['tfidif'],ascending=True).head(10)"
   ]
  },
  {
   "cell_type": "code",
   "execution_count": 50,
   "metadata": {},
   "outputs": [
    {
     "data": {
      "text/html": [
       "<div>\n",
       "<style scoped>\n",
       "    .dataframe tbody tr th:only-of-type {\n",
       "        vertical-align: middle;\n",
       "    }\n",
       "\n",
       "    .dataframe tbody tr th {\n",
       "        vertical-align: top;\n",
       "    }\n",
       "\n",
       "    .dataframe thead th {\n",
       "        text-align: right;\n",
       "    }\n",
       "</style>\n",
       "<table border=\"1\" class=\"dataframe\">\n",
       "  <thead>\n",
       "    <tr style=\"text-align: right;\">\n",
       "      <th></th>\n",
       "      <th>tfidif</th>\n",
       "    </tr>\n",
       "  </thead>\n",
       "  <tbody>\n",
       "    <tr>\n",
       "      <th>beats beats</th>\n",
       "      <td>13.011450</td>\n",
       "    </tr>\n",
       "    <tr>\n",
       "      <th>evod pro</th>\n",
       "      <td>12.723768</td>\n",
       "    </tr>\n",
       "    <tr>\n",
       "      <th>shipped containers</th>\n",
       "      <td>12.436086</td>\n",
       "    </tr>\n",
       "    <tr>\n",
       "      <th>3b</th>\n",
       "      <td>12.375462</td>\n",
       "    </tr>\n",
       "    <tr>\n",
       "      <th>pairrm pairrm</th>\n",
       "      <td>12.375462</td>\n",
       "    </tr>\n",
       "    <tr>\n",
       "      <th>ijust</th>\n",
       "      <td>12.264236</td>\n",
       "    </tr>\n",
       "    <tr>\n",
       "      <th>wide weft</th>\n",
       "      <td>12.212943</td>\n",
       "    </tr>\n",
       "    <tr>\n",
       "      <th>3ml teeth</th>\n",
       "      <td>12.164153</td>\n",
       "    </tr>\n",
       "    <tr>\n",
       "      <th>guards shade</th>\n",
       "      <td>12.164153</td>\n",
       "    </tr>\n",
       "    <tr>\n",
       "      <th>led teeth</th>\n",
       "      <td>12.117633</td>\n",
       "    </tr>\n",
       "  </tbody>\n",
       "</table>\n",
       "</div>"
      ],
      "text/plain": [
       "                       tfidif\n",
       "beats beats         13.011450\n",
       "evod pro            12.723768\n",
       "shipped containers  12.436086\n",
       "3b                  12.375462\n",
       "pairrm pairrm       12.375462\n",
       "ijust               12.264236\n",
       "wide weft           12.212943\n",
       "3ml teeth           12.164153\n",
       "guards shade        12.164153\n",
       "led teeth           12.117633"
      ]
     },
     "execution_count": 50,
     "metadata": {},
     "output_type": "execute_result"
    }
   ],
   "source": [
    "#Highest TFIDF scores\n",
    "tfidf.sort_values(by=['tfidif'],ascending=False).head(10)"
   ]
  },
  {
   "cell_type": "markdown",
   "metadata": {},
   "source": [
    "### Combining all features into one merge\n"
   ]
  },
  {
   "cell_type": "code",
   "execution_count": 51,
   "metadata": {},
   "outputs": [],
   "source": [
    "comb_merge= hstack((x_dummies, x_description, x_brand, x_name,x_cat_main, x_cat_sub1, x_cat_sub2)).tocsr()"
   ]
  },
  {
   "cell_type": "code",
   "execution_count": 52,
   "metadata": {},
   "outputs": [
    {
     "data": {
      "text/plain": [
       "(1481661, 79078)"
      ]
     },
     "execution_count": 52,
     "metadata": {},
     "output_type": "execute_result"
    }
   ],
   "source": [
    "comb_merge.shape"
   ]
  }
 ],
 "metadata": {
  "kernelspec": {
   "display_name": "Python 3",
   "language": "python",
   "name": "python3"
  },
  "language_info": {
   "codemirror_mode": {
    "name": "ipython",
    "version": 3
   },
   "file_extension": ".py",
   "mimetype": "text/x-python",
   "name": "python",
   "nbconvert_exporter": "python",
   "pygments_lexer": "ipython3",
   "version": "3.7.3"
  }
 },
 "nbformat": 4,
 "nbformat_minor": 2
}
